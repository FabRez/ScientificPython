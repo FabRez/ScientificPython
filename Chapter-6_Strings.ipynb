{
 "cells": [
  {
   "cell_type": "markdown",
   "metadata": {},
   "source": [
    "## Exercise 1\n",
    "\n",
    "Write a while loop that starts at the last character in the string and works its way backwards to the first character in the string, printing each letter on a separate line, except backwards."
   ]
  },
  {
   "cell_type": "code",
   "execution_count": 6,
   "metadata": {},
   "outputs": [
    {
     "name": "stdout",
     "output_type": "stream",
     "text": [
      "o\n",
      "n\n",
      "o\n",
      "r\n",
      "a\n",
      "r\n",
      "o\n",
      "n\n",
      "o\n"
     ]
    }
   ],
   "source": [
    "strg = 'onorarono'\n",
    "ind = -1\n",
    "while abs(ind) <= len(strg):\n",
    "        print(strg[ind])\n",
    "        ind -= 1"
   ]
  },
  {
   "cell_type": "markdown",
   "metadata": {},
   "source": [
    "## Exercise 2\n",
    "    \n",
    "Given that ``fruit`` is a string, what does ``fruit[:]`` mean? __THE FULL STRING IS PRINTED__\n"
   ]
  },
  {
   "cell_type": "code",
   "execution_count": 9,
   "metadata": {},
   "outputs": [
    {
     "data": {
      "text/plain": [
       "'onorarono'"
      ]
     },
     "execution_count": 9,
     "metadata": {},
     "output_type": "execute_result"
    }
   ],
   "source": [
    "strg[:]"
   ]
  },
  {
   "cell_type": "markdown",
   "metadata": {},
   "source": [
    "## Exercise 3"
   ]
  },
  {
   "cell_type": "markdown",
   "metadata": {},
   "source": [
    "Encapsulate this code in a function named ``count``, and generalize it so that it accepts the string and the letter as arguments."
   ]
  },
  {
   "cell_type": "code",
   "execution_count": 11,
   "metadata": {},
   "outputs": [],
   "source": [
    "word = 'banana'\n",
    "count = 0\n",
    "for letter in word:\n",
    "    if letter == 'a':\n",
    "        count = count + 1"
   ]
  },
  {
   "cell_type": "code",
   "execution_count": 15,
   "metadata": {},
   "outputs": [
    {
     "data": {
      "text/plain": [
       "3"
      ]
     },
     "execution_count": 15,
     "metadata": {},
     "output_type": "execute_result"
    }
   ],
   "source": [
    "def count(_strg='banana',_ltr='a'):\n",
    "    count = 0\n",
    "    for ltr in _strg:\n",
    "        if _ltr == ltr:\n",
    "            count = count + 1\n",
    "    return count\n",
    "\n",
    "#### TEST : count == 3 in the default case ###\n",
    "\n",
    "count()\n"
   ]
  },
  {
   "cell_type": "markdown",
   "metadata": {},
   "source": [
    "There is also a way to do it with the built-in _method_ of Python strings, we use ``help`` function to check what the _method_ does"
   ]
  },
  {
   "cell_type": "code",
   "execution_count": 24,
   "metadata": {},
   "outputs": [
    {
     "name": "stdout",
     "output_type": "stream",
     "text": [
      "Help on built-in function count:\n",
      "\n",
      "count(...) method of builtins.str instance\n",
      "    S.count(sub[, start[, end]]) -> int\n",
      "    \n",
      "    Return the number of non-overlapping occurrences of substring sub in\n",
      "    string S[start:end].  Optional arguments start and end are\n",
      "    interpreted as in slice notation.\n",
      "\n"
     ]
    }
   ],
   "source": [
    "help(strg.count)"
   ]
  },
  {
   "cell_type": "code",
   "execution_count": 26,
   "metadata": {},
   "outputs": [
    {
     "data": {
      "text/plain": [
       "3"
      ]
     },
     "execution_count": 26,
     "metadata": {},
     "output_type": "execute_result"
    }
   ],
   "source": [
    "word.count('a')"
   ]
  },
  {
   "cell_type": "markdown",
   "metadata": {},
   "source": [
    "# Useful stuff learned"
   ]
  },
  {
   "cell_type": "markdown",
   "metadata": {},
   "source": [
    "While the dir function lists the methods, and you can use help to get some simple documentation on a method, a better source of documentation for string methods would be https://docs.python.org/3.5/library/stdtypes.html#string-methods."
   ]
  },
  {
   "cell_type": "code",
   "execution_count": 22,
   "metadata": {},
   "outputs": [
    {
     "name": "stdout",
     "output_type": "stream",
     "text": [
      "Help on built-in function dir in module builtins:\n",
      "\n",
      "dir(...)\n",
      "    dir([object]) -> list of strings\n",
      "    \n",
      "    If called without an argument, return the names in the current scope.\n",
      "    Else, return an alphabetized list of names comprising (some of) the attributes\n",
      "    of the given object, and of attributes reachable from it.\n",
      "    If the object supplies a method named __dir__, it will be used; otherwise\n",
      "    the default dir() logic is used and returns:\n",
      "      for a module object: the module's attributes.\n",
      "      for a class object:  its attributes, and recursively the attributes\n",
      "        of its bases.\n",
      "      for any other object: its attributes, its class's attributes, and\n",
      "        recursively the attributes of its class's base classes.\n",
      "\n"
     ]
    }
   ],
   "source": [
    "help(dir)"
   ]
  },
  {
   "cell_type": "code",
   "execution_count": 27,
   "metadata": {},
   "outputs": [
    {
     "data": {
      "text/plain": [
       "(3, 3)"
      ]
     },
     "execution_count": 27,
     "metadata": {},
     "output_type": "execute_result"
    }
   ],
   "source": [
    "def _count(_strg='banana',_ltr='a'):\n",
    "    return _strg.count(_ltr)\n",
    "\n",
    "#### TEST : count == 3 in the default case ###\n",
    "\n",
    "count(),_count()"
   ]
  },
  {
   "cell_type": "markdown",
   "metadata": {},
   "source": [
    "## Exercise 5 \n",
    "\n",
    "Take the following Python code that stores a string:\n",
    "\n",
    "``str = 'X-DSPAM-Confidence:0.8475' ``\n",
    "\n",
    "Use ``find`` and string slicing to extract the portion of the string after the colon character and then use the float function to convert the extracted string into a floating point number."
   ]
  },
  {
   "cell_type": "code",
   "execution_count": 34,
   "metadata": {},
   "outputs": [
    {
     "name": "stdout",
     "output_type": "stream",
     "text": [
      "0.8475\n"
     ]
    }
   ],
   "source": [
    "str = 'X-DSPAM-Confidence:0.8475' \n",
    "\n",
    "_pos = str.find(':')\n",
    "\n",
    "print(float(str[_pos+1:]))"
   ]
  },
  {
   "cell_type": "markdown",
   "metadata": {},
   "source": [
    "## Exercise 6\n",
    "\n",
    "Read the documentation of the string methods at\n",
    "\n",
    "https://docs.python.org/3.5/library/stdtypes.html#string-methods\n",
    "\n",
    "You might want to experiment with some of them to make sure you understand how they work. strip and replace are particularly useful.\n",
    "\n",
    "The documentation uses a syntax that might be confusing. For example, in find(sub[, start[, end]]), the brackets indicate optional arguments. So sub is required, but start is optional, and if you include start, then end is optional."
   ]
  },
  {
   "cell_type": "code",
   "execution_count": 37,
   "metadata": {},
   "outputs": [
    {
     "name": "stdout",
     "output_type": "stream",
     "text": [
      "Help on built-in function find:\n",
      "\n",
      "find(...) method of builtins.str instance\n",
      "    S.find(sub[, start[, end]]) -> int\n",
      "    \n",
      "    Return the lowest index in S where substring sub is found,\n",
      "    such that sub is contained within S[start:end].  Optional\n",
      "    arguments start and end are interpreted as in slice notation.\n",
      "    \n",
      "    Return -1 on failure.\n",
      "\n"
     ]
    }
   ],
   "source": [
    "help(str.find)"
   ]
  },
  {
   "cell_type": "code",
   "execution_count": 35,
   "metadata": {},
   "outputs": [
    {
     "name": "stdout",
     "output_type": "stream",
     "text": [
      "Help on built-in function replace:\n",
      "\n",
      "replace(...) method of builtins.str instance\n",
      "    S.replace(old, new[, count]) -> str\n",
      "    \n",
      "    Return a copy of S with all occurrences of substring\n",
      "    old replaced by new.  If the optional argument count is\n",
      "    given, only the first count occurrences are replaced.\n",
      "\n"
     ]
    }
   ],
   "source": [
    "help(str.replace)"
   ]
  },
  {
   "cell_type": "code",
   "execution_count": 36,
   "metadata": {},
   "outputs": [
    {
     "name": "stdout",
     "output_type": "stream",
     "text": [
      "Help on built-in function strip:\n",
      "\n",
      "strip(...) method of builtins.str instance\n",
      "    S.strip([chars]) -> str\n",
      "    \n",
      "    Return a copy of the string S with leading and trailing\n",
      "    whitespace removed.\n",
      "    If chars is given and not None, remove characters in chars instead.\n",
      "\n"
     ]
    }
   ],
   "source": [
    "help(str.strip)"
   ]
  },
  {
   "cell_type": "markdown",
   "metadata": {},
   "source": [
    "# Glossary\n",
    "\n",
    "__counter__\n",
    "\n",
    "A variable used to count something, usually initialized to zero and then incremented.\n",
    "\n",
    "__empty string__\n",
    "\n",
    "A string with no characters and length 0, represented by two quotation marks.\n",
    "\n",
    "__format operator__\n",
    "\n",
    "An operator, %, that takes a format string and a tuple and generates a string that includes the elements of the tuple formatted as specified by the format string.\n",
    "\n",
    "__format sequence__\n",
    "\n",
    "A sequence of characters in a format string, like %d, that specifies how a value should be \n",
    "formatted.\n",
    "\n",
    "__format string__\n",
    "\n",
    "A string, used with the format operator, that contains format sequences.\n",
    "\n",
    "__flag__\n",
    "\n",
    "A boolean variable used to indicate whether a condition is true or false.\n",
    "\n",
    "__invocation__\n",
    "\n",
    "A statement that calls a method.\n",
    "\n",
    "__immutable__\n",
    "\n",
    "The property of a sequence whose items cannot be assigned.\n",
    "\n",
    "__index__\n",
    "\n",
    "An integer value used to select an item in a sequence, such as a character in a string.\n",
    "\n",
    "__item__\n",
    "\n",
    "One of the values in a sequence.\n",
    "\n",
    "__method__\n",
    "\n",
    "A function that is associated with an object and called using dot notation.\n",
    "\n",
    "__object__\n",
    "\n",
    "Something a variable can refer to. For now, you can use \"object\" and \"value\" interchangeably.\n",
    "\n",
    "__search__\n",
    "\n",
    "A pattern of traversal that stops when it finds what it is looking for.\n",
    "\n",
    "__sequence__\n",
    "\n",
    "An ordered set; that is, a set of values where each value is identified by an integer index.\n",
    "\n",
    "__slice__\n",
    "\n",
    "A part of a string specified by a range of indices.\n",
    "\n",
    "__traverse__\n",
    "\n",
    "To iterate through the items in a sequence, performing a similar operation on each."
   ]
  },
  {
   "cell_type": "code",
   "execution_count": null,
   "metadata": {},
   "outputs": [],
   "source": []
  }
 ],
 "metadata": {
  "kernelspec": {
   "display_name": "Python 3",
   "language": "python",
   "name": "python3"
  },
  "language_info": {
   "codemirror_mode": {
    "name": "ipython",
    "version": 3
   },
   "file_extension": ".py",
   "mimetype": "text/x-python",
   "name": "python",
   "nbconvert_exporter": "python",
   "pygments_lexer": "ipython3",
   "version": "3.6.9"
  }
 },
 "nbformat": 4,
 "nbformat_minor": 2
}
