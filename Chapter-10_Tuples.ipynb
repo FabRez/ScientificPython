{
 "cells": [
  {
   "cell_type": "markdown",
   "metadata": {},
   "source": [
    "## Example\n",
    "\n",
    "1. Replacing Elements in a tuple\n",
    "\n",
    "2. Sort words by length using tuples\n",
    "\n",
    "3. Find the 10 most common words in ``romeo_full.txt``\n",
    "\n",
    "4. str.strptime function explanation"
   ]
  },
  {
   "cell_type": "code",
   "execution_count": 1,
   "metadata": {},
   "outputs": [
    {
     "data": {
      "text/plain": [
       "('A', 'b', 'c', 'd', 'e')"
      ]
     },
     "execution_count": 1,
     "metadata": {},
     "output_type": "execute_result"
    }
   ],
   "source": [
    "t = ('a', 'b', 'c', 'd', 'e')\n",
    "t = ('A',) + t[1:]\n",
    "t"
   ]
  },
  {
   "cell_type": "code",
   "execution_count": 2,
   "metadata": {},
   "outputs": [
    {
     "name": "stdout",
     "output_type": "stream",
     "text": [
      "['yonder', 'window', 'breaks', 'light', 'what', 'soft', 'but', 'in']\n"
     ]
    }
   ],
   "source": [
    "txt = 'but soft what light in yonder window breaks'\n",
    "\n",
    "words = txt.split()\n",
    "t = list()\n",
    "for word in words:\n",
    "    t.append((len(word), word))\n",
    "\n",
    "t.sort(reverse=True)\n",
    "\n",
    "res = list()\n",
    "for length, word in t:\n",
    "    res.append(word)\n",
    "\n",
    "print(res)"
   ]
  },
  {
   "cell_type": "code",
   "execution_count": 4,
   "metadata": {},
   "outputs": [
    {
     "name": "stdout",
     "output_type": "stream",
     "text": [
      "61 i\n",
      "42 and\n",
      "40 romeo\n",
      "34 to\n",
      "34 the\n",
      "32 thou\n",
      "32 juliet\n",
      "30 that\n",
      "29 my\n",
      "24 thee\n"
     ]
    }
   ],
   "source": [
    "import string\n",
    "fhand = open('data/romeo_full.txt')\n",
    "counts = dict()\n",
    "for line in fhand:\n",
    "    line = line.translate(str.maketrans('', '', string.punctuation))\n",
    "    line = line.lower()\n",
    "    words = line.split()\n",
    "    for word in words:\n",
    "        if word not in counts:\n",
    "            counts[word] = 1\n",
    "        else:\n",
    "            counts[word] += 1\n",
    "\n",
    "# Sort the dictionary by value\n",
    "lst = list()\n",
    "for key, val in list(counts.items()):\n",
    "    lst.append((val, key))\n",
    "\n",
    "lst.sort(reverse=True)\n",
    "\n",
    "for key, val in lst[:10]:\n",
    "    print(key, val)\n",
    "\n",
    "# Code: http://www.py4e.com/code3/count3.py\n",
    "# Or select Download from this trinket's left-hand menu"
   ]
  },
  {
   "cell_type": "markdown",
   "metadata": {},
   "source": [
    "## Exercise 1 \n",
    "\n",
    "Revise a previous program as follows: Read and parse the \"From\" lines and pull out the addresses from the line. Count the number of messages from each person using a dictionary.\n",
    "\n",
    "After all the data has been read, print the person with the most commits by creating a list of (count, email) tuples from the dictionary. Then sort the list in reverse order and print out the person who has the most commits.\n",
    "\n",
    "``\n",
    "Sample Line:\n",
    "From stephen.marquard@uct.ac.za Sat Jan  5 09:14:16 2008\n",
    "Enter a file name: mbox-short.txt\n",
    "cwen@iupui.edu 5\n",
    "Enter a file name: mbox.txt\n",
    "zqian@umich.edu 195\n",
    "``"
   ]
  },
  {
   "cell_type": "code",
   "execution_count": 5,
   "metadata": {},
   "outputs": [],
   "source": [
    "def countMail():\n",
    "    d = {}\n",
    "    fname = input('Enter the file name :') #allows the user to choose the file name interactively\n",
    "    print('\\n')\n",
    "    while True:\n",
    "        if fname != '':\n",
    "            if fname == 'na na boo boo': \n",
    "                print(\"NA NA BOO BOO TO YOU - You have been punk'd!\") # This is an Easter Egg\n",
    "                break\n",
    "            try : \n",
    "                FILE = open('data/'+fname,mode='r') # open the FILE into an handle\n",
    "                for line in FILE:\n",
    "                    words = line.split()\n",
    "                    #print ('Debug:', words)\n",
    "                    if len(words) > 3 and words[0] == 'From' :\n",
    "                        key = words[1]\n",
    "                        if key not in d:\n",
    "                            d[key] = 1\n",
    "                        else:\n",
    "                            d[key] += 1\n",
    "\n",
    "                return d\n",
    "            except FileNotFoundError :\n",
    "                print('\\n')\n",
    "                print('File with name %s not found'%('data/'+fname))\n",
    "                fname = input('Enter a valid file name :')\n",
    "        else : \n",
    "            print('\\n')\n",
    "            print('An empty file name is not a valid input')\n",
    "            fname = input('Enter a new file name :')  \n",
    "            \n",
    "def dictMax(_dict,reverse=True,sort_only=False,valfirst=True):\n",
    "    if valfirst :\n",
    "        lst = sorted([(_val,_key) for _key,_val in list(_dict.items())], reverse=reverse)\n",
    "    else :\n",
    "        lst = sorted([(_key,_val) for _key,_val in list(_dict.items())], reverse=reverse)\n",
    "    if sort_only:\n",
    "        return lst        \n",
    "    print('Most messages for address %s with %g messages'%(lst[0][1],lst[0][0]))\n"
   ]
  },
  {
   "cell_type": "code",
   "execution_count": 5,
   "metadata": {},
   "outputs": [
    {
     "name": "stdout",
     "output_type": "stream",
     "text": [
      "Enter the file name :\n",
      "\n",
      "\n",
      "\n",
      "\n",
      "An empty file name is not a valid input\n",
      "Enter a new file name :\n",
      "\n",
      "\n",
      "An empty file name is not a valid input\n",
      "Enter a new file name :mboxshort.txt\n",
      "\n",
      "\n",
      "File with name data/mboxshort.txt not found\n",
      "Enter a valid file name :mbox-short.txt\n",
      "Most messages for address cwen@iupui.edu with 5 messages\n"
     ]
    }
   ],
   "source": [
    "_mbxS=countMail()\n",
    "dictMax(_mbxS)"
   ]
  },
  {
   "cell_type": "code",
   "execution_count": 6,
   "metadata": {},
   "outputs": [
    {
     "name": "stdout",
     "output_type": "stream",
     "text": [
      "Enter the file name :mbox.txt\n",
      "\n",
      "\n",
      "Most messages for address zqian@umich.edu with 195 messages\n"
     ]
    }
   ],
   "source": [
    "_mbx=countMail()\n",
    "dictMax(_mbx)"
   ]
  },
  {
   "cell_type": "markdown",
   "metadata": {},
   "source": [
    "## Exercise 2\n",
    "\n",
    "This program counts the distribution of the hour of the day for each of the messages. You can pull the hour from the \"From\" line by finding the time string and then splitting that string into parts using the colon character. Once you have accumulated the counts for each hour, print out the counts, one per line, sorted by hour as shown below.\n",
    "\n",
    "``Enter a file name: mbox-short.txt\n",
    "04 3\n",
    "06 1\n",
    "07 1\n",
    "09 2\n",
    "10 3\n",
    "11 6\n",
    "14 1\n",
    "15 2\n",
    "16 4\n",
    "17 2\n",
    "18 1\n",
    "19 1``"
   ]
  },
  {
   "cell_type": "code",
   "execution_count": 7,
   "metadata": {},
   "outputs": [],
   "source": [
    "def countDate(debug=False):\n",
    "    d = {}\n",
    "    fname = input('Enter the file name :') #allows the user to choose the file name interactively\n",
    "    print('\\n')\n",
    "    while True:\n",
    "        if fname != '':\n",
    "            if fname == 'na na boo boo': \n",
    "                print(\"NA NA BOO BOO TO YOU - You have been punk'd!\") # This is an Easter Egg\n",
    "                break\n",
    "            try : \n",
    "                FILE = open('data/'+fname,mode='r') # open the FILE into an handle\n",
    "                for line in FILE:\n",
    "                    words = line.split()\n",
    "                    if debug : print ('Debug:', words)\n",
    "                    if len(words) > 3 and words[0] == 'From' :\n",
    "                        key = words[-2].split(':')[0]\n",
    "                        if key not in d:\n",
    "                            d[key] = 1\n",
    "                        else:\n",
    "                            d[key] += 1\n",
    "\n",
    "                return d\n",
    "            except FileNotFoundError :\n",
    "                print('\\n')\n",
    "                print('File with name %s not found'%('data/'+fname))\n",
    "                fname = input('Enter a valid file name :')\n",
    "        else : \n",
    "            print('\\n')\n",
    "            print('An empty file name is not a valid input')\n",
    "            fname = input('Enter a new file name :')  "
   ]
  },
  {
   "cell_type": "code",
   "execution_count": 8,
   "metadata": {},
   "outputs": [
    {
     "name": "stdout",
     "output_type": "stream",
     "text": [
      "Enter the file name :mbox-short.txt\n",
      "\n",
      "\n"
     ]
    },
    {
     "data": {
      "text/plain": [
       "[('04', 3),\n",
       " ('06', 1),\n",
       " ('07', 1),\n",
       " ('09', 2),\n",
       " ('10', 3),\n",
       " ('11', 6),\n",
       " ('14', 1),\n",
       " ('15', 2),\n",
       " ('16', 4),\n",
       " ('17', 2),\n",
       " ('18', 1),\n",
       " ('19', 1)]"
      ]
     },
     "execution_count": 8,
     "metadata": {},
     "output_type": "execute_result"
    }
   ],
   "source": [
    "dictMax(countDate(),reverse=False,sort_only=True,valfirst=False)"
   ]
  },
  {
   "cell_type": "code",
   "execution_count": 9,
   "metadata": {},
   "outputs": [
    {
     "name": "stdout",
     "output_type": "stream",
     "text": [
      "Enter the file name :mbox.txt\n",
      "\n",
      "\n"
     ]
    },
    {
     "data": {
      "text/plain": [
       "[('00', 23),\n",
       " ('01', 10),\n",
       " ('02', 11),\n",
       " ('03', 19),\n",
       " ('04', 23),\n",
       " ('05', 10),\n",
       " ('06', 45),\n",
       " ('07', 42),\n",
       " ('08', 72),\n",
       " ('09', 166),\n",
       " ('10', 198),\n",
       " ('11', 154),\n",
       " ('12', 108),\n",
       " ('13', 114),\n",
       " ('14', 150),\n",
       " ('15', 152),\n",
       " ('16', 181),\n",
       " ('17', 97),\n",
       " ('18', 58),\n",
       " ('19', 46),\n",
       " ('20', 36),\n",
       " ('21', 36),\n",
       " ('22', 28),\n",
       " ('23', 18)]"
      ]
     },
     "execution_count": 9,
     "metadata": {},
     "output_type": "execute_result"
    }
   ],
   "source": [
    "dictMax(countDate(),reverse=False,sort_only=True,valfirst=False)"
   ]
  },
  {
   "cell_type": "markdown",
   "metadata": {},
   "source": [
    "## Exercise 3 \n",
    "\n",
    "Write a program that reads a file and prints the letters in decreasing order of frequency. Your program should convert all the input to lower case and only count the letters a-z. Your program should not count spaces, digits, punctuation, or anything other than the letters a-z. Find text samples from several different languages and see how letter frequency varies between languages. Compare your results with the tables at <link> wikipedia.org/wiki/Letter_frequencies</link>."
   ]
  },
  {
   "cell_type": "code",
   "execution_count": 6,
   "metadata": {},
   "outputs": [],
   "source": [
    "def countLetters(debug=False):\n",
    "    _dict = {}\n",
    "    fname = 'romeo_full.txt'#input('Enter the file name :') #allows the user to choose the file name interactively\n",
    "    print('\\n')\n",
    "    if fname != '':\n",
    "        if fname == 'na na boo boo': \n",
    "            print(\"NA NA BOO BOO TO YOU - You have been punk'd!\") # This is an Easter Egg\n",
    "        try : \n",
    "            FILE = open('data/'+fname,mode='r') # open the FILE into an handle\n",
    "            for line in FILE:\n",
    "                words = line.split()\n",
    "                for wds in words :\n",
    "                    if debug : print ('Debug:', words)\n",
    "                    for let in wds.lower() :\n",
    "                        if let not in string.punctuation and let.isalpha():\n",
    "                            if let not in _dict:\n",
    "                                _dict[let] = 1\n",
    "                            else:\n",
    "                                _dict[let] += 1\n",
    "            return _dict\n",
    "        except FileNotFoundError :\n",
    "            print('\\n')\n",
    "            print('File with name %s not found'%('data/'+fname))\n",
    "            return\n",
    "    else : \n",
    "        print('\\n')\n",
    "        print('An empty file name is not a valid input')\n",
    "        return"
   ]
  },
  {
   "cell_type": "code",
   "execution_count": 9,
   "metadata": {
    "scrolled": false
   },
   "outputs": [
    {
     "name": "stdout",
     "output_type": "stream",
     "text": [
      "\n",
      "\n"
     ]
    },
    {
     "data": {
      "text/plain": [
       "[('a', 7.1),\n",
       " ('b', 1.6),\n",
       " ('c', 1.6),\n",
       " ('d', 3.2),\n",
       " ('e', 12.8),\n",
       " ('f', 1.8),\n",
       " ('g', 1.9),\n",
       " ('h', 6.7),\n",
       " ('i', 6.9),\n",
       " ('j', 0.6),\n",
       " ('k', 0.8),\n",
       " ('l', 4.9),\n",
       " ('m', 3.2),\n",
       " ('n', 5.6),\n",
       " ('o', 9.0),\n",
       " ('p', 1.1),\n",
       " ('q', 0.0),\n",
       " ('r', 5.8),\n",
       " ('s', 5.6),\n",
       " ('t', 10.5),\n",
       " ('u', 3.1),\n",
       " ('v', 1.3),\n",
       " ('w', 2.7),\n",
       " ('x', 0.1),\n",
       " ('y', 2.1),\n",
       " ('z', 0.0)]"
      ]
     },
     "execution_count": 9,
     "metadata": {},
     "output_type": "execute_result"
    }
   ],
   "source": [
    "d = countLetters()\n",
    "\n",
    "dsort = dictMax(d,reverse=False,sort_only=True,valfirst=False)\n",
    "\n",
    "dperc = [(i,round(j/sum(d.values())*100,1)) for i,j in dsort]\n",
    "\n",
    "dperc"
   ]
  },
  {
   "cell_type": "code",
   "execution_count": 8,
   "metadata": {
    "scrolled": false
   },
   "outputs": [
    {
     "name": "stdout",
     "output_type": "stream",
     "text": [
      "\n",
      "\n"
     ]
    },
    {
     "data": {
      "text/plain": [
       "[('e', 12.8),\n",
       " ('t', 10.5),\n",
       " ('o', 9.0),\n",
       " ('a', 7.1),\n",
       " ('i', 6.9),\n",
       " ('h', 6.7),\n",
       " ('r', 5.8),\n",
       " ('s', 5.6),\n",
       " ('n', 5.6),\n",
       " ('l', 4.9),\n",
       " ('d', 3.2),\n",
       " ('m', 3.2),\n",
       " ('u', 3.1),\n",
       " ('w', 2.7),\n",
       " ('y', 2.1),\n",
       " ('g', 1.9),\n",
       " ('f', 1.8),\n",
       " ('b', 1.6),\n",
       " ('c', 1.6),\n",
       " ('v', 1.3),\n",
       " ('p', 1.1),\n",
       " ('k', 0.8),\n",
       " ('j', 0.6),\n",
       " ('x', 0.1),\n",
       " ('z', 0.0),\n",
       " ('q', 0.0)]"
      ]
     },
     "execution_count": 8,
     "metadata": {},
     "output_type": "execute_result"
    }
   ],
   "source": [
    "d = countLetters()\n",
    "\n",
    "dsort = dictMax(d,reverse=True,sort_only=True,valfirst=True)\n",
    "\n",
    "dperc = [(i,round(j/sum(d.values())*100,1)) for j,i in dsort]\n",
    "\n",
    "dperc"
   ]
  }
 ],
 "metadata": {
  "kernelspec": {
   "display_name": "Python 3",
   "language": "python",
   "name": "python3"
  },
  "language_info": {
   "codemirror_mode": {
    "name": "ipython",
    "version": 3
   },
   "file_extension": ".py",
   "mimetype": "text/x-python",
   "name": "python",
   "nbconvert_exporter": "python",
   "pygments_lexer": "ipython3",
   "version": "3.6.9"
  }
 },
 "nbformat": 4,
 "nbformat_minor": 2
}
