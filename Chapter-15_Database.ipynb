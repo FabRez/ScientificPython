{
 "cells": [
  {
   "cell_type": "code",
   "execution_count": 1,
   "metadata": {},
   "outputs": [
    {
     "name": "stdout",
     "output_type": "stream",
     "text": [
      "Tracks:\n",
      "('Thunderstruck', 20)\n",
      "('My Way', 15)\n"
     ]
    }
   ],
   "source": [
    "import sqlite3\n",
    "\n",
    "conn = sqlite3.connect('music.sqlite')\n",
    "cur = conn.cursor()\n",
    "\n",
    "cur.execute('INSERT INTO Tracks (title, plays) VALUES (?, ?)',\n",
    "    ('Thunderstruck', 20))\n",
    "cur.execute('INSERT INTO Tracks (title, plays) VALUES (?, ?)',\n",
    "    ('My Way', 15))\n",
    "conn.commit()\n",
    "\n",
    "print('Tracks:')\n",
    "cur.execute('SELECT title, plays FROM Tracks')\n",
    "for row in cur:\n",
    "     print(row)\n",
    "\n",
    "cur.execute('DELETE FROM Tracks WHERE plays < 100')\n",
    "conn.commit()\n",
    "\n",
    "cur.close()\n",
    "\n",
    "# Code: http://www.py4e.com/code3/db2.py"
   ]
  },
  {
   "cell_type": "code",
   "execution_count": 4,
   "metadata": {},
   "outputs": [
    {
     "name": "stdout",
     "output_type": "stream",
     "text": [
      "Enter file name: \n",
      "cwen@iupui.edu 5\n",
      "zqian@umich.edu 4\n",
      "david.horwitz@uct.ac.za 4\n",
      "louis@media.berkeley.edu 3\n",
      "gsilver@umich.edu 3\n",
      "stephen.marquard@uct.ac.za 2\n",
      "rjlowe@iupui.edu 2\n",
      "wagnermr@iupui.edu 1\n",
      "antranig@caret.cam.ac.uk 1\n",
      "gopal.ramasammycook@gmail.com 1\n"
     ]
    }
   ],
   "source": [
    "import sqlite3\n",
    "\n",
    "conn = sqlite3.connect('emaildb.sqlite')\n",
    "cur = conn.cursor()\n",
    "\n",
    "cur.execute('DROP TABLE IF EXISTS Counts')\n",
    "\n",
    "cur.execute('''\n",
    "CREATE TABLE Counts (email TEXT, count INTEGER)''')\n",
    "\n",
    "fname = input('Enter file name: ')\n",
    "if (len(fname) < 1): fname = 'data/mbox-short.txt'\n",
    "fh = open(fname)\n",
    "for line in fh:\n",
    "    if not line.startswith('From: '): continue\n",
    "    pieces = line.split()\n",
    "    email = pieces[1]\n",
    "    cur.execute('SELECT count FROM Counts WHERE email = ? ', (email,))\n",
    "    row = cur.fetchone()\n",
    "    if row is None:\n",
    "        cur.execute('''INSERT INTO Counts (email, count)\n",
    "                VALUES (?, 1)''', (email,))\n",
    "    else:\n",
    "        cur.execute('UPDATE Counts SET count = count + 1 WHERE email = ?',\n",
    "                    (email,))\n",
    "    conn.commit()\n",
    "\n",
    "# https://www.sqlite.org/lang_select.html\n",
    "sqlstr = 'SELECT email, count FROM Counts ORDER BY count DESC LIMIT 10'\n",
    "\n",
    "for row in cur.execute(sqlstr):\n",
    "    print(str(row[0]), row[1])\n",
    "\n",
    "cur.close()"
   ]
  },
  {
   "cell_type": "code",
   "execution_count": null,
   "metadata": {},
   "outputs": [],
   "source": []
  }
 ],
 "metadata": {
  "kernelspec": {
   "display_name": "Python 3",
   "language": "python",
   "name": "python3"
  },
  "language_info": {
   "codemirror_mode": {
    "name": "ipython",
    "version": 3
   },
   "file_extension": ".py",
   "mimetype": "text/x-python",
   "name": "python",
   "nbconvert_exporter": "python",
   "pygments_lexer": "ipython3",
   "version": "3.6.9"
  }
 },
 "nbformat": 4,
 "nbformat_minor": 2
}
