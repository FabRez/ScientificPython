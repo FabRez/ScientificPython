{
 "cells": [
  {
   "cell_type": "markdown",
   "metadata": {},
   "source": [
    "# Write a code that read from a text the frequency of letter of the alphabet than plot them to compare the results"
   ]
  },
  {
   "cell_type": "code",
   "execution_count": 12,
   "metadata": {},
   "outputs": [],
   "source": [
    "import matplotlib.pyplot as plt\n",
    "from matplotlib import rc\n",
    "\n",
    "\n",
    "# Global definition of matplotlib plots appearance\n",
    "# commands behavior should be straightforward\n",
    "# comments when needed\n",
    "\n",
    "plt.rcParams['mathtext.default']= 'regular'\n",
    "plt.rcParams['legend.fontsize'] = 10\n",
    "plt.rcParams['axes.labelsize'] = 15\n",
    "plt.rcParams[\"axes.labelpad\"]=10   # axes labels distance from tick labels\n",
    "plt.rcParams[\"axes.titlesize\"] = 15\n",
    "plt.rcParams['xtick.labelsize'] = 12\n",
    "plt.rcParams['ytick.labelsize'] = 12\n",
    "plt.rcParams['figure.dpi'] = 150"
   ]
  },
  {
   "cell_type": "code",
   "execution_count": 13,
   "metadata": {},
   "outputs": [],
   "source": [
    "import string\n",
    "\n",
    "def countLetters(fname=None,debug=False):\n",
    "    _dict = {}\n",
    "    if fname is None: fname = 'data/OldEnglish_text.txt'\n",
    "    if fname != '':\n",
    "        if fname == 'na na boo boo': \n",
    "            print(\"NA NA BOO BOO TO YOU - You have been punk'd!\") # This is an Easter Egg\n",
    "        try : \n",
    "            FILE = open(fname,mode='r') # open the FILE into an handle\n",
    "            for line in FILE:\n",
    "                words = line.split()\n",
    "                for wds in words :\n",
    "                    if debug : print ('Debug:', words)\n",
    "                    for let in wds.lower() :\n",
    "                        if let not in string.punctuation and let.isalpha():\n",
    "                            if let not in _dict:\n",
    "                                _dict[let] = 1\n",
    "                            else:\n",
    "                                _dict[let] += 1\n",
    "            return _dict\n",
    "        except FileNotFoundError :\n",
    "            print('\\n')\n",
    "            print('File with name %s not found'%('data/'+fname))\n",
    "            return\n",
    "    else : \n",
    "        print('\\n')\n",
    "        print('An empty file name is not a valid input')\n",
    "        return\n",
    "    \n",
    "def dictMax(_dict,reverse=True,sort_only=False,valfirst=True):\n",
    "    if valfirst :\n",
    "        lst = sorted([(_val,_key) for _key,_val in list(_dict.items())], reverse=reverse)\n",
    "    else :\n",
    "        lst = sorted([(_key,_val) for _key,_val in list(_dict.items())], reverse=reverse)\n",
    "    if sort_only:\n",
    "        return lst        \n",
    "    print('Most messages for address %s with %g messages'%(lst[0][1],lst[0][0]))"
   ]
  },
  {
   "cell_type": "code",
   "execution_count": 14,
   "metadata": {},
   "outputs": [],
   "source": [
    "def FILEname(_dir):\n",
    "    import subprocess\n",
    "    fname = subprocess.run(['ls', _dir], \n",
    "                          stdout=subprocess.PIPE).stdout.decode('utf-8')\n",
    "    return fname.split('\\n')[:-1]\n",
    "\n",
    "def sumdictvalues(_dict1,_dict2):\n",
    "    if _dict1.keys() == _dict2.keys(): \n",
    "        for _key in _dict1.keys():\n",
    "            _dict1[_key] += _dict2[_key]\n",
    "    return _dict1"
   ]
  },
  {
   "cell_type": "code",
   "execution_count": 15,
   "metadata": {},
   "outputs": [],
   "source": [
    "langfreq = {}\n",
    "\n",
    "for lang in FILEname('data/mass-dataset/dataset/'):\n",
    "    if lang == 'russian' : continue\n",
    "    fdir = 'data/mass-dataset/dataset/'+lang+'/raw_txt/'\n",
    "    _files = FILEname(fdir)\n",
    "    for ind,ff in enumerate(_files):\n",
    "        if ind > 0:\n",
    "            dd = countLetters(fdir+ff)\n",
    "            d = sumdictvalues(d,dd)\n",
    "        else:\n",
    "            d = countLetters(fdir+ff)\n",
    "    _d = [(i,round(j/sum(d.values())*100,1)) for i,j in list(d.items())]\n",
    "    langfreq[lang] = dict(_d)"
   ]
  },
  {
   "cell_type": "code",
   "execution_count": 59,
   "metadata": {},
   "outputs": [
    {
     "data": {
      "text/plain": [
       "<matplotlib.legend.Legend at 0x7f1f81242dd8>"
      ]
     },
     "execution_count": 59,
     "metadata": {},
     "output_type": "execute_result"
    },
    {
     "data": {
      "image/png": "[encoded data removed]",
      "text/plain": [
       "<Figure size 900x600 with 1 Axes>"
      ]
     },
     "metadata": {
      "needs_background": "light"
     },
     "output_type": "display_data"
    }
   ],
   "source": [
    "import pandas as pd\n",
    "d=countLetters('data/OldEnglish_text.txt')\n",
    "\n",
    "df = pd.DataFrame.from_dict(langfreq,orient='index').fillna(0)\n",
    "ndf = df[['a','e','i','o','u']]\n",
    "\n",
    "ndf.T.plot(kind='bar')\n",
    "plt.legend(ncol=2)"
   ]
  }
 ],
 "metadata": {
  "kernelspec": {
   "display_name": "Python 3",
   "language": "python",
   "name": "python3"
  },
  "language_info": {
   "codemirror_mode": {
    "name": "ipython",
    "version": 3
   },
   "file_extension": ".py",
   "mimetype": "text/x-python",
   "name": "python",
   "nbconvert_exporter": "python",
   "pygments_lexer": "ipython3",
   "version": "3.6.9"
  }
 },
 "nbformat": 4,
 "nbformat_minor": 2
}
