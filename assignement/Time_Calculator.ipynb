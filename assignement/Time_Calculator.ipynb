{
 "cells": [
  {
   "cell_type": "markdown",
   "metadata": {},
   "source": [
    "Write a function named ``add_time`` that takes in two required parameters and one optional parameter:\n",
    "\n",
    "- a start time in the 12-hour clock format (ending in AM or PM)\n",
    "- a duration time that indicates the number of hours and minutes\n",
    "- (optional) a starting day of the week, case insensitive\n",
    "\n",
    "The function should add the duration time to the start time and return the result.\n",
    "\n",
    "If the result will be the next day, it should show ``(next day)`` after the time. If the result will be more than one day later, it should show ``(n days later)`` after the time, where \"n\" is the number of days later.\n",
    "\n",
    "If the function is given the optional starting day of the week parameter, then the output should display the day of the week of the result. The day of the week in the output should appear after the time and before the number of days later.\n",
    "\n",
    "Below are some examples of different cases the function should handle. Pay close attention to the spacing and punctuation of the results."
   ]
  },
  {
   "cell_type": "code",
   "execution_count": 1,
   "metadata": {},
   "outputs": [],
   "source": [
    "wdays = ['Monday', 'Tuesday','Wednesday','Thursday','Friday','Saturday','Sunday']\n",
    "\n",
    "def hours_to_mins(_h,_m):\n",
    "    return _h*60 + _m\n",
    "\n",
    "def format_hour(_h,_m):\n",
    "    if _h >= 13:\n",
    "        return '{0}:{1:02}'.format(_h-12,_m)+' PM'\n",
    "    if _h == 12:\n",
    "        return '{0}:{1:02}'.format(_h,_m)+' PM'\n",
    "    if _h == 0:\n",
    "        return '{0}:{1:02}'.format(_h+12,_m)+' AM'\n",
    "    return '{0}:{1:02}'.format(_h,_m)+' AM'\n",
    "\n",
    "def find_day(_wd,_nd):\n",
    "    _ind = wdays.index(_wd.capitalize()) + _nd\n",
    "    _ind = _ind - 7*(_ind//7)\n",
    "    return ', '+wdays[_ind]\n",
    "\n",
    "\n",
    "def add_time(_str='10:10 PM',_add='03:30',_wday=''):\n",
    "    \n",
    "    _hx,_mx = [int(_x) for _x in _str.split(' ')[0].split(':')]\n",
    "    _ha,_ma = [int(_x) for _x in _add.split(':')] \n",
    "    \n",
    "    _isAM = True if _str.split(' ')[1] == 'AM' else None\n",
    "    \n",
    "    if not _isAM :\n",
    "        _hx += 12\n",
    "        \n",
    "    _mins = hours_to_mins(_hx,_mx)\n",
    "    _toad = hours_to_mins(_ha,_ma)\n",
    "    \n",
    "    _tot = _mins + _toad \n",
    "    \n",
    "    \n",
    "    _ndays = _tot//1440   \n",
    "    \n",
    "    _nhrs,_nmins  = divmod((_tot/1440 - _ndays)*24,1)\n",
    "        \n",
    "    _mins = int(round(_nmins*60,1))\n",
    "    _nhrs = int(round(_nhrs,1))\n",
    "    \n",
    "    if len(_wday) > 0:\n",
    "        \n",
    "        _wday = find_day(_wday,_ndays)\n",
    "            \n",
    "    _strhr = format_hour(_nhrs,_mins)       \n",
    "    \n",
    "    if _ndays < 1:\n",
    "        return _strhr+_wday\n",
    "    elif _ndays == 1:\n",
    "        return _strhr+_wday+' (next day)'\n",
    "    else : \n",
    "        return _strhr+_wday+' ({0} days later)'.format(_ndays)\n",
    "           \n",
    "        "
   ]
  },
  {
   "cell_type": "code",
   "execution_count": 7,
   "metadata": {},
   "outputs": [
    {
     "data": {
      "text/plain": [
       "('11:40 PM, Sunday', '11:40 PM, Sunday')"
      ]
     },
     "execution_count": 7,
     "metadata": {},
     "output_type": "execute_result"
    }
   ],
   "source": [
    "add_time(_str='10:10 PM', _add='01:30',_wday='Sunday'),add_time(_str='10:10 PM', _add='00:90',_wday='Sunday'),"
   ]
  },
  {
   "cell_type": "code",
   "execution_count": null,
   "metadata": {},
   "outputs": [],
   "source": []
  }
 ],
 "metadata": {
  "kernelspec": {
   "display_name": "Python 3",
   "language": "python",
   "name": "python3"
  },
  "language_info": {
   "codemirror_mode": {
    "name": "ipython",
    "version": 3
   },
   "file_extension": ".py",
   "mimetype": "text/x-python",
   "name": "python",
   "nbconvert_exporter": "python",
   "pygments_lexer": "ipython3",
   "version": "3.6.9"
  }
 },
 "nbformat": 4,
 "nbformat_minor": 2
}
