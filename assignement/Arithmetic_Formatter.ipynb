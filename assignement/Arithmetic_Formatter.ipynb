{
 "cells": [
  {
   "cell_type": "markdown",
   "metadata": {},
   "source": [
    "# Arithmetic Formatter"
   ]
  },
  {
   "cell_type": "markdown",
   "metadata": {},
   "source": [
    "<font size='3.5'>\n",
    "\n",
    "Students in primary school often arrange arithmetic problems vertically to make them easier to solve. \n",
    "\n",
    "Create a function that receives a list of strings that are arithmetic problems and returns the problems arranged vertically and side-by-side. The function should optionally take a second argument. When the second argument is set to ``True``, the answers should be displayed.\n",
    "\n",
    "The function will return the correct conversion if the supplied problems are properly formatted, otherwise, it will return a string that describes an error that is meaningful to the user.\n",
    "\n",
    "- Situations that will return an error:\n",
    "\n",
    "    - If there are too many problems supplied to the function. The limit is five, anything more will return: ``Error: Too many problems``.\n",
    "\n",
    "    - The appropriate operators the function will accept are addition and subtraction. Multiplication and division will return an error. Other operators not mentioned in this bullet point will not need to be tested. The error returned will be: ``Error: Operator must be '+' or '-'``.\n",
    "\n",
    "    - Each number (operand) should only contain digits. Otherwise, the function will return: ``Error: Numbers must only contain digits``.\n",
    "\n",
    "    - Each operand (aka number on each side of the operator) has a max of four digits in width. Otherwise, the error string returned will be: ``Error: Numbers cannot be more than four digits``.\n",
    "\n",
    "- If the user supplied the correct format of problems, the conversion you return will follow these rules:\n",
    "    - There should be a single space between the operator and the longest of the two operands, the operator will be on the same line as the second operand, both operands will be in the same order as provided (the first will be the top one and the second will be the bottom).\n",
    "    - Numbers should be right-aligned.\n",
    "    - There should be four spaces between each problem.\n",
    "    - There should be dashes at the bottom of each problem. The dashes should run along the entire length of each problem individually. (The example above shows what this should look like.)"
   ]
  },
  {
   "cell_type": "code",
   "execution_count": 4,
   "metadata": {},
   "outputs": [],
   "source": [
    "# *******************OPTIONAL**************************************\n",
    "# This utility functiion is the core of the project as it creates\n",
    "# the formatting to arrange the input in a vertical fashion.\n",
    "# While this was not asked by the problem I think it makes the code\n",
    "# more redable and reusable.\n",
    "\n",
    "def string_formatter(_upstr,_sign,_dwstr,_type='g'):\n",
    "    \n",
    "    _len = max(len(_upstr),len(_dwstr))\n",
    "        \n",
    "    _upval = float(_upstr)\n",
    "    _dwval = float(_dwstr)\n",
    "    _tmp   = '{:>'+str(_len+2)+_type+'}'\n",
    "    _tmpsg = '{:=+'+str(_len+2)+_type+'}'\n",
    "    _tmpsv = '{:-'+str(_len+2)+_type+'}'\n",
    "    _up    = _tmp.format(_upval) + ' '*4\n",
    "    \n",
    "    if _sign == '+':\n",
    "        _dw  = _tmpsg.format(_dwval) + ' '*4\n",
    "        _sum = _tmpsv.format(_upval + _dwval) + ' '*4\n",
    "    else:\n",
    "        _dw = _tmpsg.format(-_dwval) + ' '*4\n",
    "        _sum = _tmpsv.format(_upval - _dwval) + ' '*4   \n",
    "       \n",
    "    _tmpln = '{:->'+str(_len+2)+'}'\n",
    "    _ln = _tmpln.format('') + ' '*4\n",
    "    \n",
    "    return _up, _dw, _ln, _sum\n",
    "  \n",
    "# *******************OPTIONAL**************************************\n",
    "\n",
    "def arithmetic_arranger(_agsum='',_solve=False,):\n",
    "    \n",
    "    _fmtup,_fmtdw,_fmtln,_fmtsum = ('','')*2\n",
    "    \n",
    "    \n",
    "    if len(_agsum) > 5 : \n",
    "        return 'Error: Too many problems.'\n",
    "    \n",
    "    for _op in _agsum:\n",
    "        _lst = _op.split(' ')\n",
    "        \n",
    "        # *******************OPTIONAL**********************************\n",
    "        # I have put here a test to check the correct spacing of the\n",
    "        # input string that is feeded to the formatter\n",
    "    \n",
    "        if len(_lst) < 3 : \n",
    "            return print('Error: Wrong Spacing between numbers and operator.')  \n",
    "     \n",
    "        # *******************OPTIONAL**********************************\n",
    "    \n",
    "        if not _lst[1] == '+':\n",
    "            if not _lst[1] == '-':\n",
    "                return \"Error: Operator must be '+' or '-'.\"\n",
    "            \n",
    "        if len(_lst[0]) > 4 or len(_lst[2]) > 4 :\n",
    "            return 'Error: Numbers cannot be more than four digits.'\n",
    "        \n",
    "        if not _lst[0].isdigit() or  not _lst[2].isdigit(): \n",
    "            return 'Error: Numbers must only contain digits.'\n",
    "        \n",
    "        _up,_dw,_ln,_sum = string_formatter(*_lst,'g')\n",
    "        _fmtup += _up\n",
    "        _fmtdw += _dw\n",
    "        _fmtln += _ln\n",
    "        _fmtsum += _sum\n",
    "    if _solve : \n",
    "        return _fmtup[:-4]+'\\n'+_fmtdw[:-4]+'\\n'+_fmtln[:-4]+'\\n'+_fmtsum[:-4]        \n",
    "    return _fmtup[:-4]+'\\n'+_fmtdw[:-4]+'\\n'+_fmtln[:-4]"
   ]
  },
  {
   "cell_type": "code",
   "execution_count": 17,
   "metadata": {},
   "outputs": [
    {
     "name": "stdout",
     "output_type": "stream",
     "text": [
      "Error: Wrong Formatting.\n"
     ]
    }
   ],
   "source": [
    "arithmetic_arranger(['123 + 900','100+ 100'],_solve=True,_debug=False,_prt=True)"
   ]
  }
 ],
 "metadata": {
  "kernelspec": {
   "display_name": "Python 3",
   "language": "python",
   "name": "python3"
  },
  "language_info": {
   "codemirror_mode": {
    "name": "ipython",
    "version": 3
   },
   "file_extension": ".py",
   "mimetype": "text/x-python",
   "name": "python",
   "nbconvert_exporter": "python",
   "pygments_lexer": "ipython3",
   "version": "3.6.9"
  }
 },
 "nbformat": 4,
 "nbformat_minor": 2
}
