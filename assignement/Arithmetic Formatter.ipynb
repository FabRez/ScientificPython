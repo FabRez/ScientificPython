{
 "cells": [
  {
   "cell_type": "markdown",
   "metadata": {},
   "source": [
    "\n",
    "\n",
    "Students in primary school often arrange arithmetic problems vertically to make them easier to solve. \n",
    "\n",
    "Create a function that receives a list of strings that are arithmetic problems and returns the problems arranged vertically and side-by-side. The function should optionally take a second argument. When the second argument is set to ``True``, the answers should be displayed.\n",
    "\n",
    "The function will return the correct conversion if the supplied problems are properly formatted, otherwise, it will return a string that describes an error that is meaningful to the user.\n",
    "\n",
    "- Situations that will return an error:\n",
    "\n",
    "    - If there are too many problems supplied to the function. The limit is five, anything more will return: ``Error: Too many problems``.\n",
    "\n",
    "    - The appropriate operators the function will accept are addition and subtraction. Multiplication and division will return an error. Other operators not mentioned in this bullet point will not need to be tested. The error returned will be: ``Error: Operator must be '+' or '-'``.\n",
    "\n",
    "    - Each number (operand) should only contain digits. Otherwise, the function will return: ``Error: Numbers must only contain digits``.\n",
    "\n",
    "    - Each operand (aka number on each side of the operator) has a max of four digits in width. Otherwise, the error string returned will be: ``Error: Numbers cannot be more than four digits``.\n",
    "\n",
    "- If the user supplied the correct format of problems, the conversion you return will follow these rules:\n",
    "    - There should be a single space between the operator and the longest of the two operands, the operator will be on the same line as the second operand, both operands will be in the same order as provided (the first will be the top one and the second will be the bottom).\n",
    "    - Numbers should be right-aligned.\n",
    "    - There should be four spaces between each problem.\n",
    "    - There should be dashes at the bottom of each problem. The dashes should run along the entire length of each problem individually. (The example above shows what this should look like.)"
   ]
  },
  {
   "cell_type": "code",
   "execution_count": 80,
   "metadata": {},
   "outputs": [],
   "source": [
    "def aritmetic_arranger(_agsum=['32 + 8']*2,_solve=False):\n",
    "    _data = {'up': [], 'sign': [], 'down':[]}\n",
    "    for _op in _agsum:\n",
    "        _lst = _op.split(' ')\n",
    "        _data['up']   = _lst[0]\n",
    "        _data['sign'] = _lst[1]\n",
    "        _data['down'] = _lst[2]\n",
    "        \n",
    "    \n",
    "    print('{0:>6s} {0:>6s} {0:>6s} {0:>6s} {0:>6s}'.format(_data['up']))\n",
    "        \n",
    "        \n",
    "    if _solve :\n",
    "        _sum = float(_lst[0]) + float(_lst[2])\n",
    "        print('{0:>6g}'.format(_sum))\n",
    "    return _data"
   ]
  },
  {
   "cell_type": "code",
   "execution_count": 81,
   "metadata": {},
   "outputs": [
    {
     "ename": "TypeError",
     "evalue": "format() argument after ** must be a mapping, not str",
     "output_type": "error",
     "traceback": [
      "\u001b[0;31m---------------------------------------------------------------------------\u001b[0m",
      "\u001b[0;31mTypeError\u001b[0m                                 Traceback (most recent call last)",
      "\u001b[0;32m<ipython-input-81-550c4dbf11f6>\u001b[0m in \u001b[0;36m<module>\u001b[0;34m\u001b[0m\n\u001b[0;32m----> 1\u001b[0;31m \u001b[0md\u001b[0m \u001b[0;34m=\u001b[0m \u001b[0maritmetic_arranger\u001b[0m\u001b[0;34m(\u001b[0m\u001b[0m_solve\u001b[0m\u001b[0;34m=\u001b[0m\u001b[0;32mTrue\u001b[0m\u001b[0;34m)\u001b[0m\u001b[0;34m\u001b[0m\u001b[0;34m\u001b[0m\u001b[0m\n\u001b[0m",
      "\u001b[0;32m<ipython-input-80-3a927ae3c41b>\u001b[0m in \u001b[0;36maritmetic_arranger\u001b[0;34m(_agsum, _solve)\u001b[0m\n\u001b[1;32m      8\u001b[0m \u001b[0;34m\u001b[0m\u001b[0m\n\u001b[1;32m      9\u001b[0m \u001b[0;34m\u001b[0m\u001b[0m\n\u001b[0;32m---> 10\u001b[0;31m     \u001b[0mprint\u001b[0m\u001b[0;34m(\u001b[0m\u001b[0;34m'{0:>6s} {0:>6s} {0:>6s} {0:>6s} {0:>6s}'\u001b[0m\u001b[0;34m.\u001b[0m\u001b[0mformat\u001b[0m\u001b[0;34m(\u001b[0m\u001b[0;34m**\u001b[0m\u001b[0m_data\u001b[0m\u001b[0;34m[\u001b[0m\u001b[0;34m'up'\u001b[0m\u001b[0;34m]\u001b[0m\u001b[0;34m)\u001b[0m\u001b[0;34m)\u001b[0m\u001b[0;34m\u001b[0m\u001b[0;34m\u001b[0m\u001b[0m\n\u001b[0m\u001b[1;32m     11\u001b[0m \u001b[0;34m\u001b[0m\u001b[0m\n\u001b[1;32m     12\u001b[0m \u001b[0;34m\u001b[0m\u001b[0m\n",
      "\u001b[0;31mTypeError\u001b[0m: format() argument after ** must be a mapping, not str"
     ]
    }
   ],
   "source": [
    "d = aritmetic_arranger(_solve=True)"
   ]
  },
  {
   "cell_type": "code",
   "execution_count": 79,
   "metadata": {},
   "outputs": [
    {
     "ename": "SyntaxError",
     "evalue": "invalid syntax (<ipython-input-79-c88aced58bb6>, line 1)",
     "output_type": "error",
     "traceback": [
      "\u001b[0;36m  File \u001b[0;32m\"<ipython-input-79-c88aced58bb6>\"\u001b[0;36m, line \u001b[0;32m1\u001b[0m\n\u001b[0;31m    **d\u001b[0m\n\u001b[0m     ^\u001b[0m\n\u001b[0;31mSyntaxError\u001b[0m\u001b[0;31m:\u001b[0m invalid syntax\n"
     ]
    }
   ],
   "source": []
  },
  {
   "cell_type": "code",
   "execution_count": null,
   "metadata": {},
   "outputs": [],
   "source": []
  }
 ],
 "metadata": {
  "kernelspec": {
   "display_name": "Python 3",
   "language": "python",
   "name": "python3"
  },
  "language_info": {
   "codemirror_mode": {
    "name": "ipython",
    "version": 3
   },
   "file_extension": ".py",
   "mimetype": "text/x-python",
   "name": "python",
   "nbconvert_exporter": "python",
   "pygments_lexer": "ipython3",
   "version": "3.6.9"
  }
 },
 "nbformat": 4,
 "nbformat_minor": 2
}
