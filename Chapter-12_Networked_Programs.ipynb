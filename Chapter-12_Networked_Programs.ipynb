{
 "cells": [
  {
   "cell_type": "markdown",
   "metadata": {},
   "source": [
    "## The World's Simplest Web Browser"
   ]
  },
  {
   "cell_type": "code",
   "execution_count": 3,
   "metadata": {},
   "outputs": [
    {
     "name": "stdout",
     "output_type": "stream",
     "text": [
      "HTTP/1.1 200 OK\r\n",
      "Date: Sat, 05 Nov 2022 15:52:57 GMT\r\n",
      "Server: Apache/2.4.18 (Ubuntu)\r\n",
      "Last-Modified: Sat, 13 May 2017 11:22:22 GMT\r\n",
      "ETag: \"a7-54f6609245537\"\r\n",
      "Accept-Ranges: bytes\r\n",
      "Content-Length: 167\r\n",
      "Cache-Control: max-age=0, no-cache, no-store, must-revalidate\r\n",
      "Pragma: no-cache\r\n",
      "Expires: Wed, 11 Jan 1984 05:00:00 GMT\r\n",
      "Connection: close\r\n",
      "Content-Type: text/plain\r\n",
      "\r\n",
      "But soft what light through yonder window breaks\n",
      "It is the east and Juliet is the sun\n",
      "Arise fair sun and kill the envious moon\n",
      "Who is already s\n",
      "ick and pale with grief\n",
      "\n"
     ]
    }
   ],
   "source": [
    "import socket\n",
    "\n",
    "mysock = socket.socket(socket.AF_INET, socket.SOCK_STREAM)\n",
    "mysock.connect(('data.pr4e.org', 80))\n",
    "cmd = 'GET http://data.pr4e.org/romeo.txt HTTP/1.0\\r\\n\\r\\n'.encode()\n",
    "mysock.send(cmd)\n",
    "\n",
    "while True:\n",
    "    data = mysock.recv(512)\n",
    "    if (len(data) < 1):\n",
    "        break\n",
    "    print(data.decode())\n",
    "mysock.close()\n",
    "\n",
    "# Code: http://www.py4e.com/code3/socket1.py\n",
    "# Or select Download from this trinket's left-hand menu"
   ]
  },
  {
   "cell_type": "markdown",
   "metadata": {},
   "source": [
    "## Retrieving an image over HTTP"
   ]
  },
  {
   "cell_type": "code",
   "execution_count": 5,
   "metadata": {
    "scrolled": true
   },
   "outputs": [
    {
     "name": "stdout",
     "output_type": "stream",
     "text": [
      "1448 1448\n",
      "5120 6568\n",
      "5120 11688\n",
      "2792 14480\n",
      "5120 19600\n",
      "5120 24720\n",
      "5120 29840\n",
      "5120 34960\n",
      "5120 40080\n",
      "3360 43440\n",
      "1448 44888\n",
      "5120 50008\n",
      "5120 55128\n",
      "5120 60248\n",
      "5120 65368\n",
      "5120 70488\n",
      "5120 75608\n",
      "5120 80728\n",
      "5120 85848\n",
      "5120 90968\n",
      "5120 96088\n",
      "4696 100784\n",
      "1448 102232\n",
      "5120 107352\n",
      "5120 112472\n",
      "5120 117592\n",
      "5120 122712\n",
      "5120 127832\n",
      "5120 132952\n",
      "5120 138072\n",
      "5120 143192\n",
      "5120 148312\n",
      "3728 152040\n",
      "1448 153488\n",
      "1448 154936\n",
      "2896 157832\n",
      "1448 159280\n",
      "1448 160728\n",
      "5120 165848\n",
      "5120 170968\n",
      "5120 176088\n",
      "5120 181208\n",
      "5120 186328\n",
      "5120 191448\n",
      "5120 196568\n",
      "5120 201688\n",
      "5120 206808\n",
      "5120 211928\n",
      "5120 217048\n",
      "5120 222168\n",
      "3720 225888\n",
      "4344 230232\n",
      "376 230608\n",
      "Header length 394\n",
      "HTTP/1.1 200 OK\n",
      "Date: Sat, 05 Nov 2022 15:56:22 GMT\n",
      "Server: Apache/2.4.18 (Ubuntu)\n",
      "Last-Modified: Mon, 15 May 2017 12:27:40 GMT\n",
      "ETag: \"38342-54f8f2e5b6277\"\n",
      "Accept-Ranges: bytes\n",
      "Content-Length: 230210\n",
      "Vary: Accept-Encoding\n",
      "Cache-Control: max-age=0, no-cache, no-store, must-revalidate\n",
      "Pragma: no-cache\n",
      "Expires: Wed, 11 Jan 1984 05:00:00 GMT\n",
      "Connection: close\n",
      "Content-Type: image/jpeg\n"
     ]
    }
   ],
   "source": [
    "import socket\n",
    "import time\n",
    "\n",
    "HOST = 'data.pr4e.org'\n",
    "PORT = 80\n",
    "mysock = socket.socket(socket.AF_INET, socket.SOCK_STREAM)\n",
    "mysock.connect((HOST, PORT))\n",
    "mysock.sendall(b'GET http://data.pr4e.org/cover3.jpg HTTP/1.0\\r\\n\\r\\n')\n",
    "count = 0\n",
    "picture = b\"\"\n",
    "\n",
    "while True:\n",
    "    data = mysock.recv(5120)\n",
    "    if (len(data) < 1): break\n",
    "    #time.sleep(0.25)\n",
    "    count = count + len(data)\n",
    "    print(len(data), count)\n",
    "    picture = picture + data\n",
    "\n",
    "mysock.close()\n",
    "\n",
    "# Look for the end of the header (2 CRLF)\n",
    "pos = picture.find(b\"\\r\\n\\r\\n\")\n",
    "print('Header length', pos)\n",
    "print(picture[:pos].decode())\n",
    "\n",
    "# Skip past the header and save the picture data\n",
    "picture = picture[pos+4:]\n",
    "fhand = open(\"stuff.jpg\", \"wb\")\n",
    "fhand.write(picture)\n",
    "fhand.close()\n",
    "\n",
    "# Code: http://www.py4e.com/code3/urljpeg.py\n",
    "# Or select Download from this trinket's left-hand menu§"
   ]
  },
  {
   "cell_type": "markdown",
   "metadata": {},
   "source": [
    "## Retrieving web pages with ``urllib``"
   ]
  },
  {
   "cell_type": "code",
   "execution_count": 108,
   "metadata": {},
   "outputs": [
    {
     "name": "stdout",
     "output_type": "stream",
     "text": [
      "But soft what light through yonder window breaks\n",
      "It is the east and Juliet is the sun\n",
      "Arise fair sun and kill the envious moon\n",
      "Who is already sick and pale with grief\n"
     ]
    }
   ],
   "source": [
    "import urllib.request\n",
    "\n",
    "fhand = urllib.request.urlopen('http://data.pr4e.org/romeo.txt')\n",
    "for line in fhand:\n",
    "    print(line.decode().strip())\n",
    "    "
   ]
  },
  {
   "cell_type": "code",
   "execution_count": 110,
   "metadata": {},
   "outputs": [
    {
     "data": {
      "text/plain": [
       "{'But': 1,\n",
       " 'soft': 1,\n",
       " 'what': 1,\n",
       " 'light': 1,\n",
       " 'through': 1,\n",
       " 'yonder': 1,\n",
       " 'window': 1,\n",
       " 'breaks': 1,\n",
       " 'It': 1,\n",
       " 'is': 3,\n",
       " 'the': 3,\n",
       " 'east': 1,\n",
       " 'and': 3,\n",
       " 'Juliet': 1,\n",
       " 'sun': 2,\n",
       " 'Arise': 1,\n",
       " 'fair': 1,\n",
       " 'kill': 1,\n",
       " 'envious': 1,\n",
       " 'moon': 1,\n",
       " 'Who': 1,\n",
       " 'already': 1,\n",
       " 'sick': 1,\n",
       " 'pale': 1,\n",
       " 'with': 1,\n",
       " 'grief': 1}"
      ]
     },
     "execution_count": 110,
     "metadata": {},
     "output_type": "execute_result"
    }
   ],
   "source": [
    "import urllib.request, urllib.parse, urllib.error\n",
    "\n",
    "fhand = urllib.request.urlopen('http://data.pr4e.org/romeo.txt')\n",
    "\n",
    "counts = dict()\n",
    "for line in fhand:\n",
    "    words = line.decode().split()\n",
    "    for word in words:\n",
    "        counts[word] = counts.get(word, 0) + 1\n",
    "counts"
   ]
  },
  {
   "cell_type": "markdown",
   "metadata": {},
   "source": [
    "## Parsing HTML using BeautifulSoup"
   ]
  },
  {
   "cell_type": "code",
   "execution_count": 11,
   "metadata": {},
   "outputs": [
    {
     "name": "stdout",
     "output_type": "stream",
     "text": [
      "Enter - http://www.dr-chuck.com/page1.htm\n",
      "http://www.dr-chuck.com/page2.htm\n"
     ]
    }
   ],
   "source": [
    "# To run this, you can install BeautifulSoup\n",
    "# https://pypi.python.org/pypi/beautifulsoup4\n",
    "\n",
    "# Or download the file\n",
    "# http://www.py4e.com/code3/bs4.zip\n",
    "# and unzip it in the same directory as this file\n",
    "\n",
    "import urllib.request, urllib.parse, urllib.error\n",
    "from bs4 import BeautifulSoup\n",
    "import ssl\n",
    "\n",
    "# Ignore SSL certificate errors\n",
    "ctx = ssl.create_default_context()\n",
    "ctx.check_hostname = False\n",
    "ctx.verify_mode = ssl.CERT_NONE\n",
    "\n",
    "url = input('Enter - ')\n",
    "html = urllib.request.urlopen(url, context=ctx).read()\n",
    "soup = BeautifulSoup(html, 'html.parser')\n",
    "\n",
    "# Retrieve all of the anchor tags\n",
    "tags = soup('a')\n",
    "for tag in tags:\n",
    "    print(tag.get('href', None))\n",
    "\n",
    "# Code: http://www.py4e.com/code3/urllinks.py\n",
    "# Or select Download from this trinket's left-hand menu"
   ]
  },
  {
   "cell_type": "code",
   "execution_count": 12,
   "metadata": {},
   "outputs": [
    {
     "name": "stdout",
     "output_type": "stream",
     "text": [
      "230210 characters copied.\n"
     ]
    }
   ],
   "source": [
    "import urllib.request, urllib.parse, urllib.error\n",
    "\n",
    "img = urllib.request.urlopen('http://data.pr4e.org/cover3.jpg')\n",
    "fhand = open('cover3.jpg', 'wb')\n",
    "size = 0\n",
    "while True:\n",
    "    info = img.read(100000)\n",
    "    if len(info) < 1: break\n",
    "    size = size + len(info)\n",
    "    fhand.write(info)\n",
    "\n",
    "print(size, 'characters copied.')\n",
    "fhand.close()\n",
    "\n",
    "# Code: http://www.py4e.com/code3/curl2.py\n",
    "# Or select Download from this trinket's left-hand menu"
   ]
  },
  {
   "cell_type": "markdown",
   "metadata": {},
   "source": [
    "## Exercise 1 \n",
    "\n",
    "Change the socket program ``socket1.py`` to prompt the user for the URL so it can read any web page. You can use ``split('/')`` to break the URL into its component parts so you can extract the host name for the socket connect call. Add error checking using try and except to handle the condition where the user enters an improperly formatted or non-existent URL.\n",
    "\n"
   ]
  },
  {
   "cell_type": "code",
   "execution_count": 104,
   "metadata": {},
   "outputs": [],
   "source": [
    "import socket\n",
    "import re \n",
    "def _socket(URL):\n",
    "    mysock = socket.socket(socket.AF_INET, socket.SOCK_STREAM)\n",
    "    if not re.findall('http://+.*[.]+.*/\\S',URL) :\n",
    "        if not re.findall('https://+.*[.]+.*/\\S',URL) :\n",
    "            print('Wrong Formatting. Address %s does not seem to be written properly '%URL)\n",
    "            return 0\n",
    "    HOST = URL.split('/')[2]\n",
    "    mysock.connect((HOST, 80))\n",
    "    \n",
    "    cmd = 'GET '+URL+' HTTP/1.0\\r\\n\\r\\n'\n",
    "    \n",
    "    mysock.send(cmd.encode())\n",
    "    \n",
    "    while True:\n",
    "        data = mysock.recv(512)\n",
    "        if 'Not Found' in data.decode():\n",
    "            print('Address \"%s\" not found'%URL)\n",
    "            return 0\n",
    "        if (len(data) < 1):\n",
    "            break\n",
    "        print(data.decode())\n",
    "    mysock.close()\n",
    "    return 1"
   ]
  },
  {
   "cell_type": "code",
   "execution_count": 106,
   "metadata": {},
   "outputs": [
    {
     "name": "stdout",
     "output_type": "stream",
     "text": [
      "Enter URL: htt://en.wikipedia.org/wiki/Letter_frequency\n",
      "Wrong Formatting. Address htt://en.wikipedia.org/wiki/Letter_frequency does not seem to be written properly \n",
      "An error occurred\n",
      "Enter a new URL:https://en.wikipedia.org/wiki/Letter_frequency\n",
      "HTTP/1.1 301 TLS Redirect\n",
      "Date: Sat, 05 Nov 2022 18:48:07 GMT\n",
      "Server: Varnish\n",
      "X-Varnish: 601250524\n",
      "X-Cache: cp3064 int\n",
      "X-Cache-Status: int-front\n",
      "Server-Timing: cache;desc=\"int-front\", host;desc=\"cp3064\"\n",
      "Permissions-Policy: interest-cohort=()\n",
      "Set-Cookie: WMF-Last-Access=05-Nov-2022;Path=/;HttpOnly;secure;Expires=Wed, 07 Dec 2022 12:00:00 GMT\n",
      "Set-Cookie: WMF-Last-Access-Global=05-Nov-2022;Path=/;Domain=.wikipedia.org;HttpOnly;secure;Expires=Wed, 07 Dec 2022 12:00:00 GMT\n",
      "X-Client-IP: 94.210.165.103\n",
      "\n",
      "Location: https://en.wikipedia.org/wiki/Letter_frequency\n",
      "Content-Length: 0\n",
      "Connection: close\n",
      "\n",
      "\n"
     ]
    }
   ],
   "source": [
    "x = 0\n",
    "fname = input('Enter URL: ')\n",
    "while True:\n",
    "    x =_socket(fname)\n",
    "    if x == 0:\n",
    "        print('An error occurred')\n",
    "        fname = input('Enter a new URL:')\n",
    "    else:\n",
    "        break"
   ]
  },
  {
   "cell_type": "markdown",
   "metadata": {},
   "source": [
    "## Exercise 2\n",
    "\n",
    "Change your socket program so that it counts the number of characters it has received and stops displaying any text after it has shown 3000 characters. The program should retrieve the entire document and count the total number of characters and display the count of the number of characters at the end of the document."
   ]
  },
  {
   "cell_type": "code",
   "execution_count": 130,
   "metadata": {},
   "outputs": [],
   "source": [
    "import socket\n",
    "import re \n",
    "def _socket(URL):\n",
    "    mysock = socket.socket(socket.AF_INET, socket.SOCK_STREAM)\n",
    "    if not re.findall('http://+.*[.]+.*/\\S',URL) :\n",
    "        if not re.findall('https://+.*[.]+.*/\\S',URL) :\n",
    "            print('Wrong Formatting. Address %s does not seem to be written properly '%URL)\n",
    "            return 0\n",
    "    HOST = URL.split('/')[2]\n",
    "    mysock.connect((HOST, 80))\n",
    "    cmd = 'GET '+URL+' HTTP/1.0\\r\\n\\r\\n'\n",
    "    mysock.send(cmd.encode())\n",
    "    recv = ''\n",
    "    while True:\n",
    "        data = mysock.recv(512)\n",
    "        if 'Not Found' in data.decode():\n",
    "            print('Address \"%s\" not found'%URL)\n",
    "            return 0\n",
    "        if (len(data) < 1):\n",
    "            break\n",
    "        recv += data.decode() \n",
    "    print(recv[:3000])\n",
    "    print(len(recv))\n",
    "    mysock.close()\n",
    "    \n",
    "    return 1"
   ]
  },
  {
   "cell_type": "code",
   "execution_count": 131,
   "metadata": {},
   "outputs": [
    {
     "name": "stdout",
     "output_type": "stream",
     "text": [
      "HTTP/1.1 200 OK\r\n",
      "Date: Sat, 05 Nov 2022 19:04:36 GMT\r\n",
      "Server: Apache/2.4.18 (Ubuntu)\r\n",
      "Last-Modified: Sat, 13 May 2017 11:22:22 GMT\r\n",
      "ETag: \"22a0-54f6609245537\"\r\n",
      "Accept-Ranges: bytes\r\n",
      "Content-Length: 8864\r\n",
      "Cache-Control: max-age=0, no-cache, no-store, must-revalidate\r\n",
      "Pragma: no-cache\r\n",
      "Expires: Wed, 11 Jan 1984 05:00:00 GMT\r\n",
      "Connection: close\r\n",
      "Content-Type: text/plain\r\n",
      "\r\n",
      "Romeo and Juliet\n",
      "Act 2, Scene 2 \n",
      "\n",
      "SCENE II. Capulet's orchard.\n",
      "\n",
      "Enter ROMEO\n",
      "\n",
      "ROMEO\n",
      "\n",
      "He jests at scars that never felt a wound.\n",
      "JULIET appears above at a window\n",
      "\n",
      "But, soft! what light through yonder window breaks?\n",
      "It is the east, and Juliet is the sun.\n",
      "Arise, fair sun, and kill the envious moon,\n",
      "Who is already sick and pale with grief,\n",
      "That thou her maid art far more fair than she:\n",
      "Be not her maid, since she is envious;\n",
      "Her vestal livery is but sick and green\n",
      "And none but fools do wear it; cast it off.\n",
      "It is my lady, O, it is my love!\n",
      "O, that she knew she were!\n",
      "She speaks yet she says nothing: what of that?\n",
      "Her eye discourses; I will answer it.\n",
      "I am too bold, 'tis not to me she speaks:\n",
      "Two of the fairest stars in all the heaven,\n",
      "Having some business, do entreat her eyes\n",
      "To twinkle in their spheres till they return.\n",
      "What if her eyes were there, they in her head?\n",
      "The brightness of her cheek would shame those stars,\n",
      "As daylight doth a lamp; her eyes in heaven\n",
      "Would through the airy region stream so bright\n",
      "That birds would sing and think it were not night.\n",
      "See, how she leans her cheek upon her hand!\n",
      "O, that I were a glove upon that hand,\n",
      "That I might touch that cheek!\n",
      "\n",
      "JULIET\n",
      "\n",
      "Ay me!\n",
      "\n",
      "ROMEO\n",
      "\n",
      "She speaks:\n",
      "O, speak again, bright angel! for thou art\n",
      "As glorious to this night, being o'er my head\n",
      "As is a winged messenger of heaven\n",
      "Unto the white-upturned wondering eyes\n",
      "Of mortals that fall back to gaze on him\n",
      "When he bestrides the lazy-pacing clouds\n",
      "And sails upon the bosom of the air.\n",
      "\n",
      "JULIET\n",
      "\n",
      "O Romeo, Romeo! wherefore art thou Romeo?\n",
      "Deny thy father and refuse thy name;\n",
      "Or, if thou wilt not, be but sworn my love,\n",
      "And I'll no longer be a Capulet.\n",
      "\n",
      "ROMEO\n",
      "\n",
      "[Aside] Shall I hear more, or shall I speak at this?\n",
      "\n",
      "JULIET\n",
      "\n",
      "'Tis but thy name that is my enemy;\n",
      "Thou art thyself, though not a Montague.\n",
      "What's Montague? it is nor hand, nor foot,\n",
      "Nor arm, nor face, nor any other part\n",
      "Belonging to a man. O, be some other name!\n",
      "What's in a name? that which we call a rose\n",
      "By any other name would smell as sweet;\n",
      "So Romeo would, were he not Romeo call'd,\n",
      "Retain that dear perfection which he owes\n",
      "Without that title. Romeo, doff thy name,\n",
      "And for that name which is no part of thee\n",
      "Take all myself.\n",
      "\n",
      "ROMEO\n",
      "\n",
      "I take thee at thy word:\n",
      "Call me but love, and I'll be new baptized;\n",
      "Henceforth I never will be Romeo.\n",
      "\n",
      "JULIET\n",
      "\n",
      "What man art thou that thus bescreen'd in night\n",
      "So stumblest on my counsel?\n",
      "\n",
      "ROMEO\n",
      "\n",
      "By a name\n",
      "I know not how to tell thee who I am:\n",
      "My name, dear saint, is hateful to myself,\n",
      "Because it is an enemy to thee;\n",
      "Had I it written, I would tear the word.\n",
      "\n",
      "JULIET\n",
      "\n",
      "My ears have not yet drunk a hundred words\n",
      "Of\n",
      "9236\n"
     ]
    },
    {
     "data": {
      "text/plain": [
       "1"
      ]
     },
     "execution_count": 131,
     "metadata": {},
     "output_type": "execute_result"
    }
   ],
   "source": [
    "_socket('http://data.pr4e.org/romeo-full.txt')"
   ]
  },
  {
   "cell_type": "markdown",
   "metadata": {},
   "source": [
    "## Exercise 3\n",
    "\n",
    "Use ``urllib`` to replicate the previous exercise of (1) retrieving the document from a URL, (2) displaying up to 3000 characters, and (3) counting the overall number of characters in the document. Don't worry about the headers for this exercise, simply show the first 3000 characters of the document contents."
   ]
  },
  {
   "cell_type": "code",
   "execution_count": 149,
   "metadata": {},
   "outputs": [
    {
     "name": "stdout",
     "output_type": "stream",
     "text": [
      "But soft what light through yonder window breaks\n",
      "It is the east and Juliet is the sun\n",
      "Arise fair sun and kill the envious moon\n",
      "Who is already sick and pale with grief\n",
      "\n",
      "167\n"
     ]
    },
    {
     "data": {
      "text/plain": [
       "1"
      ]
     },
     "execution_count": 149,
     "metadata": {},
     "output_type": "execute_result"
    }
   ],
   "source": [
    "import urllib.request\n",
    "\n",
    "def _socketURLib(URL):\n",
    "    mysock = socket.socket(socket.AF_INET, socket.SOCK_STREAM)\n",
    "    if not re.findall('http://+.*[.]+.*/\\S',URL) :\n",
    "        if not re.findall('https://+.*[.]+.*/\\S',URL) :\n",
    "            print('Wrong Formatting. Address %s does not seem to be written properly '%URL)\n",
    "            return 0\n",
    "    fhand = urllib.request.urlopen(URL)\n",
    "    recv = ''\n",
    "    for line in fhand:\n",
    "        recv += line.decode() \n",
    "    print(recv[:3000])\n",
    "    print(len(recv))\n",
    "    \n",
    "    return 1\n",
    "\n",
    "_socketURLib('http://data.pr4e.org/romeo.txt')"
   ]
  },
  {
   "cell_type": "markdown",
   "metadata": {},
   "source": [
    "## Exercise 4\n",
    "\n",
    "Change the ``urllinks.py`` program to extract and count paragraph (p) tags from the retrieved HTML document and display the count of the paragraphs as the output of your program. Do not display the paragraph text, only count them. Test your program on several small web pages as well as some larger web pages."
   ]
  },
  {
   "cell_type": "code",
   "execution_count": 159,
   "metadata": {},
   "outputs": [
    {
     "name": "stdout",
     "output_type": "stream",
     "text": [
      "Enter - https://en.wikipedia.org/wiki/The_Gold-Bug\n",
      "38\n"
     ]
    }
   ],
   "source": [
    "import urllib.request, urllib.parse, urllib.error\n",
    "from bs4 import BeautifulSoup\n",
    "import ssl\n",
    "\n",
    "# Ignore SSL certificate errors\n",
    "ctx = ssl.create_default_context()\n",
    "ctx.check_hostname = False\n",
    "ctx.verify_mode = ssl.CERT_NONE\n",
    "\n",
    "url = input('Enter - ')\n",
    "html = urllib.request.urlopen(url, context=ctx).read()\n",
    "soup = BeautifulSoup(html, 'html.parser')\n",
    "\n",
    "# Retrieve all of the anchor tags\n",
    "tags = soup('p')\n",
    "print(len(tags))\n",
    "\n",
    "# Code: http://www.py4e.com/code3/urllinks.py\n",
    "# Or select Download from this trinket's left-hand menu"
   ]
  },
  {
   "cell_type": "markdown",
   "metadata": {},
   "source": [
    "## Exercise 5 \n",
    "\n",
    "(Advanced) Change the socket program so that it only shows data after the headers and a blank line have been received. Remember that recv is receiving characters (newlines and all), not lines."
   ]
  },
  {
   "cell_type": "code",
   "execution_count": 176,
   "metadata": {},
   "outputs": [],
   "source": [
    "import socket\n",
    "import re \n",
    "def _socket(URL):\n",
    "    mysock = socket.socket(socket.AF_INET, socket.SOCK_STREAM)\n",
    "    if not re.findall('http://+.*[.]+.*/\\S',URL) :\n",
    "        if not re.findall('https://+.*[.]+.*/\\S',URL) :\n",
    "            print('Wrong Formatting. Address %s does not seem to be written properly '%URL)\n",
    "            return 0\n",
    "    HOST = URL.split('/')[2]\n",
    "    mysock.connect((HOST, 80))\n",
    "    cmd = 'GET '+URL+' HTTP/1.0\\r\\n\\r\\n'\n",
    "    mysock.send(cmd.encode())\n",
    "    recv = ''\n",
    "    while True:\n",
    "        data = mysock.recv(512)\n",
    "        if 'Not Found' in data.decode():\n",
    "            print('Address \"%s\" not found'%URL)\n",
    "            return 0\n",
    "        if (len(data) < 1):\n",
    "            break\n",
    "        recv += data.decode() \n",
    "    recv = recv.split('\\r\\n\\r\\n')[1]\n",
    "    print(recv[:3000])\n",
    "    print(len(recv))\n",
    "    mysock.close()\n",
    "    \n",
    "    return 1"
   ]
  },
  {
   "cell_type": "code",
   "execution_count": 177,
   "metadata": {},
   "outputs": [
    {
     "name": "stdout",
     "output_type": "stream",
     "text": [
      "But soft what light through yonder window breaks\n",
      "It is the east and Juliet is the sun\n",
      "Arise fair sun and kill the envious moon\n",
      "Who is already sick and pale with grief\n",
      "\n",
      "167\n"
     ]
    },
    {
     "data": {
      "text/plain": [
       "1"
      ]
     },
     "execution_count": 177,
     "metadata": {},
     "output_type": "execute_result"
    }
   ],
   "source": [
    "_socket('http://data.pr4e.org/romeo.txt')"
   ]
  },
  {
   "cell_type": "code",
   "execution_count": null,
   "metadata": {},
   "outputs": [],
   "source": []
  }
 ],
 "metadata": {
  "kernelspec": {
   "display_name": "Python 3",
   "language": "python",
   "name": "python3"
  },
  "language_info": {
   "codemirror_mode": {
    "name": "ipython",
    "version": 3
   },
   "file_extension": ".py",
   "mimetype": "text/x-python",
   "name": "python",
   "nbconvert_exporter": "python",
   "pygments_lexer": "ipython3",
   "version": "3.6.9"
  }
 },
 "nbformat": 4,
 "nbformat_minor": 2
}
