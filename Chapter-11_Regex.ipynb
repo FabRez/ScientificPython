{
 "cells": [
  {
   "cell_type": "markdown",
   "metadata": {},
   "source": [
    "## Exercise 2 of Chapter 10 using regex\n",
    "\n",
    "This program counts the distribution of the hour of the day for each of the messages. You can pull the hour from the \"From\" line by finding the time string and then splitting that string into parts using the colon character. Once you have accumulated the counts for each hour, print out the counts, one per line, sorted by hour as shown below. \n",
    "\n",
    "Sample line :\n",
    "\n",
    "`` From stephen.marquard@uct.ac.za Sat Jan  5 09:14:16 2008 ``"
   ]
  },
  {
   "cell_type": "code",
   "execution_count": 23,
   "metadata": {},
   "outputs": [],
   "source": [
    "import re \n",
    "\n",
    "\n",
    "def countDate(debug=False):\n",
    "    d = {}\n",
    "    fname = input('Enter the file name :') #allows the user to choose the file name interactively\n",
    "    print('\\n')\n",
    "    while True:\n",
    "        if fname != '':\n",
    "            if fname == 'na na boo boo': \n",
    "                print(\"NA NA BOO BOO TO YOU - You have been punk'd!\") # This is an Easter Egg\n",
    "                break\n",
    "            try : \n",
    "                FILE = open('data/'+fname,mode='r') # open the FILE into an handle\n",
    "                for line in FILE:\n",
    "                    key = re.findall('^From .* ([0-9][0-9]):[0-9][0-9]:[0-9][0-9]',line)\n",
    "                    if debug: print(key)\n",
    "                    if len(key) > 0:\n",
    "                        if key[0] not in d:\n",
    "                            d[key[0]] = 1\n",
    "                        else:\n",
    "                            d[key[0]] += 1\n",
    "\n",
    "                return d\n",
    "            except FileNotFoundError :\n",
    "                print('\\n')\n",
    "                print('File with name %s not found'%('data/'+fname))\n",
    "                fname = input('Enter a valid file name :')\n",
    "        else : \n",
    "            print('\\n')\n",
    "            print('An empty file name is not a valid input')\n",
    "            fname = input('Enter a new file name :')  \n",
    "            \n",
    "def dictMax(_dict,reverse=True,sort_only=False,valfirst=True):\n",
    "    if valfirst :\n",
    "        lst = sorted([(_val,_key) for _key,_val in list(_dict.items())], reverse=reverse)\n",
    "    else :\n",
    "        lst = sorted([(_key,_val) for _key,_val in list(_dict.items())], reverse=reverse)\n",
    "    if sort_only:\n",
    "        return lst        \n",
    "    print('Most messages for address %s with %g messages'%(lst[0][1],lst[0][0]))\n"
   ]
  },
  {
   "cell_type": "code",
   "execution_count": 24,
   "metadata": {},
   "outputs": [
    {
     "name": "stdout",
     "output_type": "stream",
     "text": [
      "Enter the file name :mbox-short.txt\n",
      "\n",
      "\n"
     ]
    },
    {
     "data": {
      "text/plain": [
       "[('04', 3),\n",
       " ('06', 1),\n",
       " ('07', 1),\n",
       " ('09', 2),\n",
       " ('10', 3),\n",
       " ('11', 6),\n",
       " ('14', 1),\n",
       " ('15', 2),\n",
       " ('16', 4),\n",
       " ('17', 2),\n",
       " ('18', 1),\n",
       " ('19', 1)]"
      ]
     },
     "execution_count": 24,
     "metadata": {},
     "output_type": "execute_result"
    }
   ],
   "source": [
    "dictMax(countDate(),reverse=False,sort_only=True,valfirst=False)"
   ]
  },
  {
   "cell_type": "markdown",
   "metadata": {},
   "source": [
    "# Exercise 1 \n",
    "\n",
    "Write a simple program to simulate the operation of the ``grep`` command on Unix. Ask the user to enter a regular expression and count the number of lines that matched the regular expression:\n",
    "\n",
    "``python grep.py\n",
    "Enter a regular expression: ^Author\n",
    "mbox.txt had 1798 lines that matched ^Author\n",
    "python grep.py\n",
    "Enter a regular expression: ^X-\n",
    "mbox.txt had 14368 lines that matched ^X-\n",
    "python grep.py\n",
    "Enter a regular expression: java\n",
    "mbox.txt had 4218 lines that matched java``"
   ]
  },
  {
   "cell_type": "code",
   "execution_count": 25,
   "metadata": {},
   "outputs": [],
   "source": [
    "import re \n",
    "\n",
    "def countOcc(_str='^From .* ([0-9][0-9]):[0-9][0-9]:[0-9][0-9]',fname='mbox-short.txt',debug=False):\n",
    "    d = {}\n",
    "    while True:\n",
    "        if fname != '':\n",
    "            if fname == 'na na boo boo': \n",
    "                print(\"NA NA BOO BOO TO YOU - You have been punk'd!\") # This is an Easter Egg\n",
    "                break\n",
    "            try : \n",
    "                FILE = open('data/'+fname,mode='r') # open the FILE into an handle\n",
    "                for line in FILE:\n",
    "                    key = re.findall(_str,line)\n",
    "                    if debug: print(key)\n",
    "                    if len(key) > 0:\n",
    "                        if key[0] not in d:\n",
    "                            d[key[0]] = 1\n",
    "                        else:\n",
    "                            d[key[0]] += 1\n",
    "                \n",
    "                return d\n",
    "            except FileNotFoundError :\n",
    "                print('\\n')\n",
    "                print('File with name %s not found'%('data/'+fname))\n",
    "                fname = input('Enter a valid file name :')\n",
    "        else : \n",
    "            print('\\n')\n",
    "            print('An empty file name is not a valid input')\n",
    "            fname = input('Enter a new file name :')  \n",
    "            "
   ]
  },
  {
   "cell_type": "code",
   "execution_count": 81,
   "metadata": {},
   "outputs": [
    {
     "name": "stdout",
     "output_type": "stream",
     "text": [
      "In file \"mbox.txt\" string \"Author\" occurred 1798 times\n",
      "In file \"mbox.txt\" string \"X-\" occurred 14368 times\n",
      "In file \"mbox.txt\" string \"java\" occurred 4175 times\n"
     ]
    }
   ],
   "source": [
    "fname = 'mbox.txt'\n",
    "\n",
    "x1 = countOcc(_str='^Author',fname=fname)\n",
    "x2 = countOcc(_str='^X-',fname=fname)\n",
    "x3 = countOcc(_str='java$',fname=fname)\n",
    "\n",
    "print('In file \"{0}\" string \"{1}\" occurred {2} times'.format(fname,list(x1.items())[0][0],list(x1.items())[0][1]))\n",
    "print('In file \"{0}\" string \"{1}\" occurred {2} times'.format(fname,list(x2.items())[0][0],list(x2.items())[0][1]))\n",
    "print('In file \"{0}\" string \"{1}\" occurred {2} times'.format(fname,list(x3.items())[0][0],list(x3.items())[0][1]))"
   ]
  },
  {
   "cell_type": "markdown",
   "metadata": {},
   "source": [
    "## Exercise 2\n",
    "\n",
    "Write a program to look for lines of the form:\n",
    "\n",
    "`New Revision: 39772`\n",
    "\n",
    "and extract the number from each of the lines using a regular expression and the findall() method. Compute the average of the numbers and print out the average.\n",
    "\n",
    "``Enter file:mbox.txt\n",
    "38549.7949721\n",
    "Enter file:mbox-short.txt\n",
    "39756.9259259``"
   ]
  },
  {
   "cell_type": "code",
   "execution_count": 107,
   "metadata": {},
   "outputs": [
    {
     "name": "stdout",
     "output_type": "stream",
     "text": [
      "Average for file \"mbox-short.txt\" is 39756.926\n",
      "Average for file \"mbox.txt\" is 38549.795\n"
     ]
    }
   ],
   "source": [
    "x1 = countOcc(_str='^New .*: ([0-9]+)',)\n",
    "_sum = 0\n",
    "for i,j in x1.items():\n",
    "    _sum += float(i)\n",
    "\n",
    "\n",
    "x2 = countOcc(_str='^New .*: ([0-9]+)',fname='mbox.txt')\n",
    "__sum = 0\n",
    "for i,j in x2.items():\n",
    "    __sum += float(i)\n",
    "    \n",
    "print('Average for file \"mbox-short.txt\" is {0:.3f}'.format(_sum/len(x1)))\n",
    "print('Average for file \"mbox.txt\" is {0:.3f}'.format(__sum/len(x2)))"
   ]
  },
  {
   "cell_type": "code",
   "execution_count": null,
   "metadata": {},
   "outputs": [],
   "source": []
  }
 ],
 "metadata": {
  "kernelspec": {
   "display_name": "Python 3",
   "language": "python",
   "name": "python3"
  },
  "language_info": {
   "codemirror_mode": {
    "name": "ipython",
    "version": 3
   },
   "file_extension": ".py",
   "mimetype": "text/x-python",
   "name": "python",
   "nbconvert_exporter": "python",
   "pygments_lexer": "ipython3",
   "version": "3.6.9"
  }
 },
 "nbformat": 4,
 "nbformat_minor": 2
}
