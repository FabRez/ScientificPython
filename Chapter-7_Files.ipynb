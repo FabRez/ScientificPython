{
 "cells": [
  {
   "cell_type": "markdown",
   "metadata": {},
   "source": [
    "## Exercise 1 \n",
    "\n",
    "Write a program to read through a file and print the contents of the file (line by line) all in upper case. Executing the program will look as follows:\n",
    "\n",
    "``python shout.py\n",
    "Enter a file name: mbox-short.txt\n",
    "FROM STEPHEN.MARQUARD@UCT.AC.ZA SAT JAN  5 09:14:16 2008\n",
    "RETURN-PATH: <POSTMASTER@COLLAB.SAKAIPROJECT.ORG>\n",
    "RECEIVED: FROM MURDER (MAIL.UMICH.EDU [141.211.14.90])\n",
    "     BY FRANKENSTEIN.MAIL.UMICH.EDU (CYRUS V2.3.8) WITH LMTPA;\n",
    "     SAT, 05 JAN 2008 09:14:16 -0500``"
   ]
  },
  {
   "cell_type": "markdown",
   "metadata": {},
   "source": [
    "## Exercise 3 \n",
    "\n",
    "Sometimes when programmers get bored or want to have a bit of fun, they add a harmless Easter Egg to their program Modify the program that prompts the user for the file name so that it prints a funny message when the user types in the exact file name \"na na boo boo\". The program should behave normally for all other files which exist and don't exist. Here is a sample execution of the program:"
   ]
  },
  {
   "cell_type": "code",
   "execution_count": 9,
   "metadata": {
    "scrolled": true
   },
   "outputs": [
    {
     "name": "stdout",
     "output_type": "stream",
     "text": [
      "Enter the file name :na na boo boo\n",
      "\n",
      "\n",
      "NA NA BOO BOO TO YOU - You have been punk'd!\n"
     ]
    }
   ],
   "source": [
    "fname = input('Enter the file name :') #allows the user to choose the file name interactively\n",
    "print('\\n')\n",
    "while True:\n",
    "    \n",
    "    if fname != '':\n",
    "        if fname == 'na na boo boo':\n",
    "            print(\"NA NA BOO BOO TO YOU - You have been punk'd!\")\n",
    "            break\n",
    "        try : \n",
    "            FILE = open('data/'+fname,mode='r') # open the FILE into an handle\n",
    "            for line in FILE:\n",
    "                print(line.rstrip().upper())  # strip right trailing (non-printing) character and make string upper case\n",
    "            break\n",
    "        except FileNotFoundError :\n",
    "            print('\\n')\n",
    "            print('File with name %s not found'%('data/'+fname))\n",
    "            fname = input('Enter a valid file name :')\n",
    "    else : \n",
    "        print('\\n')\n",
    "        print('An empty file name is not a valid input')\n",
    "        fname = input('Enter a new file name :')\n",
    "        #exit()"
   ]
  },
  {
   "cell_type": "markdown",
   "metadata": {},
   "source": [
    "## Exercise 2 \n",
    "    \n",
    "Write a program to prompt for a file name, and then read through the file and look for lines of the form:\n",
    "\n",
    "``X-DSPAM-Confidence:0.8475``\n",
    "\n",
    "When you encounter a line that starts with \"X-DSPAM-Confidence:\" pull apart the line to extract the floating-point number on the line. Count these lines and then compute the total of the spam confidence values from these lines. When you reach the end of the file, print out the average spam confidence.\n",
    "\n",
    "``Enter the file name: mbox.txt\n",
    "Average spam confidence: 0.894128046745``\n",
    "\n",
    "``Enter the file name: mbox-short.txt\n",
    "Average spam confidence: 0.750718518519\n",
    "Test your file on the mbox.txt and mbox-short.txt files.``\n",
    "\n"
   ]
  },
  {
   "cell_type": "code",
   "execution_count": 32,
   "metadata": {},
   "outputs": [],
   "source": [
    "def AvgSpamConf():\n",
    "    fname = input('Enter the file name :') #allows the user to choose the file name interactively\n",
    "    print('\\n')\n",
    "    count = 0\n",
    "    sum = 0\n",
    "    while True:\n",
    "\n",
    "        if fname != '':\n",
    "            if fname == 'na na boo boo': \n",
    "                print(\"NA NA BOO BOO TO YOU - You have been punk'd!\") # This is an Easter Egg\n",
    "                break\n",
    "            try : \n",
    "                FILE = open('data/'+fname,mode='r') # open the FILE into an handle\n",
    "                for line in FILE:\n",
    "                    if line.startswith('X-DSPAM-Confidence'):\n",
    "                        ind=line.find(':')\n",
    "                        lx = line[ind+1:]\n",
    "                        count += 1\n",
    "                        sum += float(lx)           \n",
    "                break\n",
    "            except FileNotFoundError :\n",
    "                print('\\n')\n",
    "                print('File with name %s not found'%('data/'+fname))\n",
    "                fname = input('Enter a valid file name :')\n",
    "        else : \n",
    "            print('\\n')\n",
    "            print('An empty file name is not a valid input')\n",
    "            fname = input('Enter a new file name :')\n",
    "            #exit()\n",
    "\n",
    "    print('Average spam confidence: %.12g'%(sum/count))"
   ]
  },
  {
   "cell_type": "code",
   "execution_count": 33,
   "metadata": {},
   "outputs": [
    {
     "name": "stdout",
     "output_type": "stream",
     "text": [
      "Enter the file name :mbox-short.txt\n",
      "\n",
      "\n",
      "Average spam confidence: 0.750718518519\n"
     ]
    }
   ],
   "source": [
    "AvgSpamConf()"
   ]
  },
  {
   "cell_type": "code",
   "execution_count": 34,
   "metadata": {},
   "outputs": [
    {
     "name": "stdout",
     "output_type": "stream",
     "text": [
      "Enter the file name :mbox.txt\n",
      "\n",
      "\n",
      "Average spam confidence: 0.894128046745\n"
     ]
    }
   ],
   "source": [
    "AvgSpamConf()"
   ]
  }
 ],
 "metadata": {
  "kernelspec": {
   "display_name": "Python 3",
   "language": "python",
   "name": "python3"
  },
  "language_info": {
   "codemirror_mode": {
    "name": "ipython",
    "version": 3
   },
   "file_extension": ".py",
   "mimetype": "text/x-python",
   "name": "python",
   "nbconvert_exporter": "python",
   "pygments_lexer": "ipython3",
   "version": "3.6.9"
  }
 },
 "nbformat": 4,
 "nbformat_minor": 2
}
