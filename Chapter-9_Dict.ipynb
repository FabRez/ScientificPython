{
 "cells": [
  {
   "cell_type": "markdown",
   "metadata": {},
   "source": [
    "## Exercise 2\n",
    "\n",
    "Write a program that categorizes each mail message by which day of the week the commit was done. To do this look for lines that start with \"From\", then look for the third word and keep a running count of each of the days of the week. At the end of the program print out the contents of your dictionary (order does not matter)."
   ]
  },
  {
   "cell_type": "code",
   "execution_count": 12,
   "metadata": {},
   "outputs": [
    {
     "name": "stdout",
     "output_type": "stream",
     "text": [
      "{'Sat': 1, 'Fri': 20, 'Thu': 6}\n"
     ]
    }
   ],
   "source": [
    "fhand = open('data/mbox-short.txt')\n",
    "d={}\n",
    "for line in fhand:\n",
    "    words = line.split()\n",
    "    #print ('Debug:', words)\n",
    "    if len(words) < 3 or words[0] != 'From' : continue\n",
    "    key = words[2]\n",
    "    if key not in d: \n",
    "        d[key] = 1 \n",
    "    else: \n",
    "        d[key] = d[key] + 1 \n",
    "print(d)"
   ]
  },
  {
   "cell_type": "markdown",
   "metadata": {},
   "source": [
    "## Exercise 3\n",
    "\n",
    "Write a program to read through a mail log, build a histogram using a dictionary to count how many messages have come from each email address, and print the dictionary."
   ]
  },
  {
   "cell_type": "markdown",
   "metadata": {},
   "source": [
    "## Exercise 4\n",
    "    \n",
    "Add code to the program to figure out who has the most messages in the file.\n",
    "\n"
   ]
  },
  {
   "cell_type": "code",
   "execution_count": 90,
   "metadata": {},
   "outputs": [],
   "source": [
    "def countMail():\n",
    "    d = {}\n",
    "    fname = input('Enter the file name :') #allows the user to choose the file name interactively\n",
    "    while True:\n",
    "        if fname != '':\n",
    "            if fname == 'na na boo boo': \n",
    "                print(\"NA NA BOO BOO TO YOU - You have been punk'd!\") # This is an Easter Egg\n",
    "                break\n",
    "            try : \n",
    "                FILE = open('data/'+fname,mode='r') # open the FILE into an handle\n",
    "                for line in FILE:\n",
    "                    words = line.split()\n",
    "                    #print ('Debug:', words)\n",
    "                    if len(words) > 3 and words[0] == 'From' :\n",
    "                        key = words[1]\n",
    "                        if key not in d:\n",
    "                            d[key] = 1\n",
    "                        else:\n",
    "                            d[key] += 1\n",
    "\n",
    "                return d\n",
    "            except FileNotFoundError :\n",
    "                print('\\n')\n",
    "                print('File with name %s not found'%('data/'+fname))\n",
    "                fname = input('Enter a valid file name :')\n",
    "        else : \n",
    "            print('\\n')\n",
    "            print('An empty file name is not a valid input')\n",
    "            fname = input('Enter a new file name :')  \n",
    "            #exit()\n",
    "            \n",
    "def dictMax(_dict):\n",
    "    _key = list(_dict.keys())\n",
    "    _val = list(_dict.values())\n",
    "    _max = max(_val)\n",
    "    _ind = _val.index(_max)\n",
    "    print('Most messages for address %s with %g messages'%(_key[_ind],_max))"
   ]
  },
  {
   "cell_type": "code",
   "execution_count": 92,
   "metadata": {
    "scrolled": false
   },
   "outputs": [
    {
     "name": "stdout",
     "output_type": "stream",
     "text": [
      "Enter the file name :mbox-short.txt\n",
      "Most messages for address cwen@iupui.edu with 5 messages\n"
     ]
    }
   ],
   "source": [
    "mbxS = countMail()\n",
    "dictMax(mbxS)"
   ]
  },
  {
   "cell_type": "code",
   "execution_count": 93,
   "metadata": {
    "scrolled": true
   },
   "outputs": [
    {
     "name": "stdout",
     "output_type": "stream",
     "text": [
      "Enter the file name :mbox.txt\n",
      "Most messages for address zqian@umich.edu with 195 messages\n"
     ]
    }
   ],
   "source": [
    "mbx = countMail()\n",
    "dictMax(mbx)"
   ]
  },
  {
   "cell_type": "markdown",
   "metadata": {},
   "source": [
    "## Exercise 5\n",
    "Write a program that records the domain name (instead of the address) where the message was sent from instead of who the mail came from (i.e., the whole email address). At the end of the program, print out the contents of your dictionary.\n",
    "\n",
    "``\n",
    "python schoolcount.py\n",
    "Enter a file name: mbox-short.txt\n",
    "{'media.berkeley.edu': 4, 'uct.ac.za': 6, 'umich.edu': 7,\n",
    "'gmail.com': 1, 'caret.cam.ac.uk': 1, 'iupui.edu': 8}\n",
    "``"
   ]
  },
  {
   "cell_type": "code",
   "execution_count": 95,
   "metadata": {},
   "outputs": [],
   "source": [
    "def countDomain():\n",
    "    d = {}\n",
    "    fname = input('Enter the file name :') #allows the user to choose the file name interactively\n",
    "    while True:\n",
    "        if fname != '':\n",
    "            if fname == 'na na boo boo': \n",
    "                print(\"NA NA BOO BOO TO YOU - You have been punk'd!\") # This is an Easter Egg\n",
    "                break\n",
    "            try : \n",
    "                FILE = open('data/'+fname,mode='r') # open the FILE into an handle\n",
    "                for line in FILE:\n",
    "                    words = line.split()\n",
    "                    #print ('Debug:', words)\n",
    "                    if len(words) > 3 and words[0] == 'From' :\n",
    "                        key = words[1].split('@')[-1]\n",
    "                        if key not in d:\n",
    "                            d[key] = 1\n",
    "                        else:\n",
    "                            d[key] += 1\n",
    "\n",
    "                return d\n",
    "            except FileNotFoundError :\n",
    "                print('\\n')\n",
    "                print('File with name %s not found'%('data/'+fname))\n",
    "                fname = input('Enter a valid file name :')\n",
    "        else : \n",
    "            print('\\n')\n",
    "            print('An empty file name is not a valid input')\n",
    "            fname = input('Enter a new file name :')  \n",
    "            #exit()"
   ]
  },
  {
   "cell_type": "code",
   "execution_count": 97,
   "metadata": {},
   "outputs": [
    {
     "name": "stdout",
     "output_type": "stream",
     "text": [
      "Enter the file name :mbox-short.txt\n",
      "Most messages for address iupui.edu with 8 messages\n"
     ]
    }
   ],
   "source": [
    "_mbxS=countDomain()\n",
    "dictMax(_mbxS)"
   ]
  },
  {
   "cell_type": "code",
   "execution_count": 98,
   "metadata": {},
   "outputs": [
    {
     "name": "stdout",
     "output_type": "stream",
     "text": [
      "Enter the file name :mbox.txt\n",
      "Most messages for address iupui.edu with 536 messages\n"
     ]
    }
   ],
   "source": [
    "_mbx=countDomain()\n",
    "dictMax(_mbx)"
   ]
  }
 ],
 "metadata": {
  "kernelspec": {
   "display_name": "Python 3",
   "language": "python",
   "name": "python3"
  },
  "language_info": {
   "codemirror_mode": {
    "name": "ipython",
    "version": 3
   },
   "file_extension": ".py",
   "mimetype": "text/x-python",
   "name": "python",
   "nbconvert_exporter": "python",
   "pygments_lexer": "ipython3",
   "version": "3.6.9"
  }
 },
 "nbformat": 4,
 "nbformat_minor": 2
}
